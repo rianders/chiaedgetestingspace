{
 "cells": [
  {
   "cell_type": "markdown",
   "id": "major-routine",
   "metadata": {},
   "source": [
    "# CHI@Edge: Using camera peripherals\n",
    "\n",
    "Some of the CHI@Edge devices have attached camera modules (e.g., the Raspberry Pi V2 camera). You can reserve these devices and launch containers on them and specify an additional `device_profiles` argument to request that your container have access to a particular attached device/peripheral. The current list of supported peripherals is:\n",
    "\n",
    "- `pi_camera`: for accessing the Raspberry Pi camera module from a container running on a Raspberry Pi.\n",
    "- `jetson_csi_camera`: for accessing the Raspberry Pi camera module (or any other CSI-attached camera) from a container running on a Jetson.\n",
    "- `pi_gpio`: for accessing the GPIO port of the Raspberry Pi.\n",
    "\n",
    "In the following example we'll show how to use either the Raspberry Pi or the Jetson to capture camera data and stream it to the Jupyter notebook. We will create a container that exposes the camera stream data via an HTTP interface, but this is not the only way to access that data; the important part is that the container can read the device just as if the code was running directly on the host.\n",
    "\n",
    "### Configuration\n",
    "\n",
    "We'll set up some parameters that we'll use for both the lease request and the container create."
   ]
  },
  {
   "cell_type": "code",
   "execution_count": 15,
   "id": "weighted-dance",
   "metadata": {},
   "outputs": [
    {
     "name": "stdout",
     "output_type": "stream",
     "text": [
      "Now using CHI@Edge:\n",
      "URL: https://chi.edge.chameleoncloud.org\n",
      "Location: University of Chicago, Chicago, Illinois, USA\n",
      "Support contact: help@chameleoncloud.org\n"
     ]
    }
   ],
   "source": [
    "import chi\n",
    "chi.use_site(\"CHI@Edge\")\n",
    "chi.set(\"project_name\", \"Chameleon\")\n",
    "\n",
    "# Choose your target platform for the demo\n",
    "target_platform = \"rpi\"\n",
    "# target_platform = \"nano\"\n",
    "\n",
    "if target_platform == \"rpi\":\n",
    "    # Currently it is not possible to make a reservation targeting devices having peripherals;\n",
    "    # you must know the name of the device that has the peripheral physically connected.\n",
    "    device_res_kwargs = {\"device_name\": \"rpi3-01\"}\n",
    "    device_profiles = [\"pi_camera\"]\n",
    "    container_kwargs = {}\n",
    "elif target_platform == \"nano\":\n",
    "    # Currently it is not possible to make a reservation targeting devices having peripherals;\n",
    "    # you must know the name of the device that has the peripheral physically connected.\n",
    "    device_res_kwargs = {\"device_name\": \"nano-01\"}\n",
    "    device_profiles = [\"jetson_csi_camera\"]\n",
    "    # Jetson Nano currently needs a custom Docker runtime for most things.\n",
    "    container_kwargs = {\"runtime\": \"nvidia\"}\n",
    "else:\n",
    "    raise ValueError(f\"Invalid target platform: {target_platform}\")"
   ]
  },
  {
   "cell_type": "markdown",
   "id": "capital-delicious",
   "metadata": {},
   "source": [
    "## Reserve a device with attached camera"
   ]
  },
  {
   "cell_type": "code",
   "execution_count": 2,
   "id": "welcome-ceiling",
   "metadata": {},
   "outputs": [
    {
     "name": "stdout",
     "output_type": "stream",
     "text": [
      "Lease created, waiting for it to start ...\n",
      "Lease active!\n"
     ]
    }
   ],
   "source": [
    "from chi import lease\n",
    "from chi import container\n",
    "\n",
    "res = []\n",
    "lease.add_device_reservation(res, count=1, **device_res_kwargs)\n",
    "start, end = lease.lease_duration(days=2)\n",
    "l = lease.create_lease(f\"{target_platform}-camera-capture\", reservations=res, start_date=start, end_date=end)\n",
    "\n",
    "print(\"Lease created, waiting for it to start ...\")\n",
    "\n",
    "lease.wait_for_active(l[\"id\"])\n",
    "\n",
    "print(\"Lease active!\")"
   ]
  },
  {
   "cell_type": "markdown",
   "id": "broadband-offering",
   "metadata": {},
   "source": [
    "## Launch a container\n",
    "\n",
    "For this container, we have a simple Flask HTTP server that will read camera data and serve it over a feed. There are two images, because each platform accesses the camera slightly differently:\n",
    "\n",
    "- [diurnalist/rpi-video-streaming](https://hub.docker.com/repository/docker/diurnalist/rpi-video-streaming)\n",
    "- [diurnalist/nano-video-streaming](https://hub.docker.com/repository/docker/diurnalist/nano-video-streaming)\n",
    "\n",
    "These are both based on the [flask-video-streaming](https://github.com/miguelgrinberg/flask-video-streaming) example. [Here's the Dockerfile that creates the Raspberry Pi flavor](https://github.com/diurnalist/flask-video-streaming/blob/master/Dockerfile).\n",
    "\n",
    "Notice we are exposing port 5000 via `exposed_ports`: this is the port the server will run on."
   ]
  },
  {
   "cell_type": "code",
   "execution_count": 16,
   "id": "realistic-christian",
   "metadata": {},
   "outputs": [],
   "source": [
    "lease_id = lease.get_lease_id(\"rpi-camera-capture\")"
   ]
  },
  {
   "cell_type": "code",
   "execution_count": 17,
   "id": "temporal-religious",
   "metadata": {},
   "outputs": [
    {
     "name": "stdout",
     "output_type": "stream",
     "text": [
      "Creating container ...\n",
      "Waiting for container to start ...\n",
      "Done!\n"
     ]
    }
   ],
   "source": [
    "from chi import container, lease\n",
    "\n",
    "print(\"Creating container ...\")\n",
    "\n",
    "camera_capture = container.create_container(\n",
    "    f\"{target_platform}-camera-capture\", \n",
    "    image=f\"diurnalist/{target_platform}-video-streaming:latest\",\n",
    "    device_profiles=[\"pi_camera\"],\n",
    "    exposed_ports=[5000],\n",
    "    reservation_id=lease.get_device_reservation(l[\"id\"]),\n",
    "    **container_kwargs\n",
    ")\n",
    "\n",
    "print(\"Waiting for container to start ...\")\n",
    "\n",
    "# This won't return until our container is ready!\n",
    "container.wait_for_active(camera_capture.uuid)\n",
    "\n",
    "print(\"Done!\")"
   ]
  },
  {
   "cell_type": "markdown",
   "id": "charitable-memphis",
   "metadata": {},
   "source": [
    "## Associate public IP\n",
    "\n",
    "In order to access the video feed over the internet from this Notebook, we need to attach a public IP address to our container."
   ]
  },
  {
   "cell_type": "code",
   "execution_count": 18,
   "id": "greenhouse-stanley",
   "metadata": {
    "tags": []
   },
   "outputs": [],
   "source": [
    "public_ip = container.associate_floating_ip(camera_capture.uuid)\n",
    "stream_url = f\"http://{public_ip}:5000/video_feed\""
   ]
  },
  {
   "cell_type": "markdown",
   "id": "likely-steering",
   "metadata": {},
   "source": [
    "## Access the video feed\n",
    "\n",
    "Finally, we can use `ipywidgets` to directly display the current value of the stream! You could also download the image and convert it to an OpenCV image and perform further processing, or any number of other things."
   ]
  },
  {
   "cell_type": "code",
   "execution_count": 19,
   "id": "adequate-switzerland",
   "metadata": {},
   "outputs": [
    {
     "data": {
      "application/vnd.jupyter.widget-view+json": {
       "model_id": "ae90214ba2e24de5b34c39ee66271769",
       "version_major": 2,
       "version_minor": 0
      },
      "text/plain": [
       "Image(value=b'http://129.114.34.159:5000/video_feed', format='url', width='640')"
      ]
     },
     "metadata": {},
     "output_type": "display_data"
    }
   ],
   "source": [
    "import ipywidgets as widgets\n",
    "\n",
    "stream = widgets.Image()\n",
    "stream.format = \"url\"\n",
    "stream.value = stream_url.encode(\"utf-8\")\n",
    "stream.width = 640\n",
    "stream"
   ]
  },
  {
   "cell_type": "code",
   "execution_count": 20,
   "id": "traditional-cricket",
   "metadata": {},
   "outputs": [],
   "source": [
    "container.destroy_container(camera_capture.uuid)"
   ]
  },
  {
   "cell_type": "code",
   "execution_count": null,
   "id": "animated-karma",
   "metadata": {},
   "outputs": [],
   "source": []
  }
 ],
 "metadata": {
  "kernelspec": {
   "display_name": "Python 3.10.4 64-bit",
   "language": "python",
   "name": "python3"
  },
  "language_info": {
   "codemirror_mode": {
    "name": "ipython",
    "version": 3
   },
   "file_extension": ".py",
   "mimetype": "text/x-python",
   "name": "python",
   "nbconvert_exporter": "python",
   "pygments_lexer": "ipython3",
   "version": "3.10.4"
  },
  "vscode": {
   "interpreter": {
    "hash": "916dbcbb3f70747c44a77c7bcd40155683ae19c65e1c03b4aa3499c5328201f1"
   }
  }
 },
 "nbformat": 4,
 "nbformat_minor": 5
}
