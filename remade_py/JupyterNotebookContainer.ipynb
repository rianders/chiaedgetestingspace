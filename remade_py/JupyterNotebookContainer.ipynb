{
 "cells": [
  {
   "cell_type": "code",
   "execution_count": 1,
   "id": "1845c71e-8b9f-4381-9239-d882e4cf400e",
   "metadata": {},
   "outputs": [],
   "source": [
    "# get a generic rpi 64 lease"
   ]
  },
  {
   "cell_type": "markdown",
   "id": "239f365a-be48-4b5c-a44a-2eb3afa29af0",
   "metadata": {},
   "source": [
    "To report a broken pi get the uuid of the pi and send to Mike or #edge-iot Slack\n",
    "Rule of thumb: When getting a lease specify pi?\n",
    "What devices are available?\n",
    "* The host calendar\n",
    "\n"
   ]
  },
  {
   "cell_type": "code",
   "execution_count": 4,
   "id": "1eb543d8-7336-4fb9-80bc-39e664abe29c",
   "metadata": {},
   "outputs": [
    {
     "ename": "ModuleNotFoundError",
     "evalue": "No module named 'chi'",
     "output_type": "error",
     "traceback": [
      "\u001b[0;31m---------------------------------------------------------------------------\u001b[0m",
      "\u001b[0;31mModuleNotFoundError\u001b[0m                       Traceback (most recent call last)",
      "\u001b[1;32m/home/eyc14/Documents/GitHub/chiaedgetestingspace/remade_py/JupyterNotebookContainer.ipynb Cell 3\u001b[0m in \u001b[0;36m<cell line: 1>\u001b[0;34m()\u001b[0m\n\u001b[0;32m----> <a href='vscode-notebook-cell:/home/eyc14/Documents/GitHub/chiaedgetestingspace/remade_py/JupyterNotebookContainer.ipynb#ch0000002?line=0'>1</a>\u001b[0m \u001b[39mimport\u001b[39;00m \u001b[39mchi\u001b[39;00m\n\u001b[1;32m      <a href='vscode-notebook-cell:/home/eyc14/Documents/GitHub/chiaedgetestingspace/remade_py/JupyterNotebookContainer.ipynb#ch0000002?line=1'>2</a>\u001b[0m \u001b[39mfrom\u001b[39;00m \u001b[39mchi\u001b[39;00m \u001b[39mimport\u001b[39;00m container\n\u001b[1;32m      <a href='vscode-notebook-cell:/home/eyc14/Documents/GitHub/chiaedgetestingspace/remade_py/JupyterNotebookContainer.ipynb#ch0000002?line=2'>3</a>\u001b[0m \u001b[39mfrom\u001b[39;00m \u001b[39mchi\u001b[39;00m \u001b[39mimport\u001b[39;00m lease\n",
      "\u001b[0;31mModuleNotFoundError\u001b[0m: No module named 'chi'"
     ]
    }
   ],
   "source": [
    "import chi\n",
    "from chi import container\n",
    "from chi import lease\n",
    "# Before we go any further, we need to select which Chameleon site we will be using.\n",
    "chi.use_site(\"CHI@Edge\")"
   ]
  },
  {
   "cell_type": "code",
   "execution_count": 29,
   "id": "fb3ecaa0-0b72-4ecf-8ca4-7073cecd0a32",
   "metadata": {},
   "outputs": [
    {
     "name": "stdout",
     "output_type": "stream",
     "text": [
      "<module 'chi' from '/opt/conda/lib/python3.9/site-packages/chi/__init__.py'>\n"
     ]
    }
   ],
   "source": [
    "chi.set(\"project_name\", \"CHI-220971\")\n",
    "print(chi)"
   ]
  },
  {
   "cell_type": "code",
   "execution_count": 42,
   "id": "2d4ab5ac-41bd-43e9-82dd-758a4cb716e0",
   "metadata": {},
   "outputs": [
    {
     "name": "stdout",
     "output_type": "stream",
     "text": [
      "Waiting for lease to start ...\n",
      "Done!\n"
     ]
    }
   ],
   "source": [
    "machine_name = \"raspberrypi4-64\"\n",
    "start, end = lease.lease_duration(days=2)\n",
    "reservations = []\n",
    "lease.add_device_reservation(reservations, count=1, device_name=\"iot-rpi4-03\", machine_name=machine_name)\n",
    "container_lease = lease.create_lease(f\"{machine_name}-{start}\", reservations)\n",
    "lease_id = container_lease[\"id\"]\n",
    "\n",
    "print(\"Waiting for lease to start ...\")\n",
    "lease.wait_for_active(lease_id)\n",
    "print(\"Done!\")"
   ]
  },
  {
   "cell_type": "code",
   "execution_count": 43,
   "id": "f5d5de1a-7504-4667-986f-7cdbcc126bd8",
   "metadata": {},
   "outputs": [
    {
     "name": "stdout",
     "output_type": "stream",
     "text": [
      "Requesting Jupyter server container ...\n",
      "Done!\n"
     ]
    }
   ],
   "source": [
    "try:\n",
    "    container.destroy_container(\"jupyter-server-roa\")\n",
    "except:\n",
    "    pass\n",
    "\n",
    "jupyter_server = None\n",
    "print(\"Requesting Jupyter server container ...\")\n",
    "jupyter_server = container.create_container(\"jupyter-server-roa\", \n",
    "    image=\"jupyter/minimal-notebook:aarch64-latest\",\n",
    "    #entrypoint=[\"tini\", \"-g\", \"--\"],\n",
    "    #command=[\"start-singleuser.sh\"],\n",
    "    #command=[\"tini\", \"-g\", \"--\", \"jupyter\", \"notebook\", \"--ip\", \"0.0.0.0\", \"--port\", \"8888\", \"--no-browser\", \"--allow-root\"],\n",
    "    #command=[\"ls\"],\n",
    "    command=[\"jupyter\", \"notebook\", \"--ip\", \"0.0.0.0\", \"--port\", \"8888\", \"--no-browser\", \"--allow-root\"],                                     \n",
    "    exposed_ports=[8888],\n",
    "    reservation_id=lease.get_device_reservation(lease_id),\n",
    "    platform_version=2)\n",
    "print(\"Done!\")\n"
   ]
  },
  {
   "cell_type": "code",
   "execution_count": 38,
   "id": "78b709fd-ca92-4854-bd35-92f2fec5ee18",
   "metadata": {},
   "outputs": [
    {
     "name": "stdout",
     "output_type": "stream",
     "text": [
      "Requesting container ...\n",
      "Done!\n"
     ]
    }
   ],
   "source": [
    "print(\"Requesting container ...\")\n",
    "\n",
    "my_container = container.create_container(\n",
    "    \"webserver-container\", \n",
    "    image=\"arm64v8/python:latest\",\n",
    "    command=[\"python\", \"-m\", \"http.server\", \"8888\"],\n",
    "    workdir=\"/var/www/html\",\n",
    "    exposed_ports=[8888],\n",
    "    reservation_id=lease.get_device_reservation(lease_id),\n",
    "    platform_version=2,\n",
    ")\n",
    "\n",
    "print(\"Done!\")"
   ]
  },
  {
   "cell_type": "code",
   "execution_count": 40,
   "id": "716a0076-4cce-40f1-9d7b-5a784b6597c1",
   "metadata": {},
   "outputs": [
    {
     "ename": "Conflict",
     "evalue": "Cannot associate floating IP 129.114.34.217 (3acdd521-47a1-4177-b450-f5436c66f24e) with port 1d314e75-09b7-4e15-952b-687989924239 using fixed IP 192.168.64.52, as that fixed IP already has a floating IP on external network 17446dec-0c72-4d28-abf5-99f43e152221.\nNeutron server returns request_ids: ['req-92ecf4a1-5d2d-49e2-a29f-ef05ec10ff50']",
     "output_type": "error",
     "traceback": [
      "\u001b[0;31m---------------------------------------------------------------------------\u001b[0m",
      "\u001b[0;31mConflict\u001b[0m                                  Traceback (most recent call last)",
      "\u001b[0;32m/tmp/ipykernel_211/1501389722.py\u001b[0m in \u001b[0;36m<module>\u001b[0;34m\u001b[0m\n\u001b[0;32m----> 1\u001b[0;31m \u001b[0mpublic_ip\u001b[0m \u001b[0;34m=\u001b[0m \u001b[0mcontainer\u001b[0m\u001b[0;34m.\u001b[0m\u001b[0massociate_floating_ip\u001b[0m\u001b[0;34m(\u001b[0m\u001b[0mmy_container\u001b[0m\u001b[0;34m.\u001b[0m\u001b[0muuid\u001b[0m\u001b[0;34m)\u001b[0m\u001b[0;34m\u001b[0m\u001b[0;34m\u001b[0m\u001b[0m\n\u001b[0m\u001b[1;32m      2\u001b[0m \u001b[0;34m\u001b[0m\u001b[0m\n\u001b[1;32m      3\u001b[0m \u001b[0mprint\u001b[0m\u001b[0;34m(\u001b[0m\u001b[0;34mf\"http://{public_ip}:8888\"\u001b[0m\u001b[0;34m)\u001b[0m\u001b[0;34m\u001b[0m\u001b[0;34m\u001b[0m\u001b[0m\n",
      "\u001b[0;32m/opt/conda/lib/python3.9/site-packages/chi/container.py\u001b[0m in \u001b[0;36massociate_floating_ip\u001b[0;34m(container_ref, floating_ip_address)\u001b[0m\n\u001b[1;32m    289\u001b[0m         \u001b[0mport\u001b[0m \u001b[0;34m=\u001b[0m \u001b[0mnext\u001b[0m\u001b[0;34m(\u001b[0m\u001b[0miter\u001b[0m\u001b[0;34m(\u001b[0m\u001b[0;34m[\u001b[0m\u001b[0ma\u001b[0m\u001b[0;34m[\u001b[0m\u001b[0;34m\"port\"\u001b[0m\u001b[0;34m]\u001b[0m \u001b[0;32mfor\u001b[0m \u001b[0ma\u001b[0m \u001b[0;32min\u001b[0m \u001b[0maddrs\u001b[0m \u001b[0;32mif\u001b[0m \u001b[0ma\u001b[0m\u001b[0;34m[\u001b[0m\u001b[0;34m\"port\"\u001b[0m\u001b[0;34m]\u001b[0m\u001b[0;34m]\u001b[0m\u001b[0;34m)\u001b[0m\u001b[0;34m,\u001b[0m \u001b[0;32mNone\u001b[0m\u001b[0;34m)\u001b[0m\u001b[0;34m\u001b[0m\u001b[0;34m\u001b[0m\u001b[0m\n\u001b[1;32m    290\u001b[0m         \u001b[0;32mif\u001b[0m \u001b[0mport\u001b[0m\u001b[0;34m:\u001b[0m\u001b[0;34m\u001b[0m\u001b[0;34m\u001b[0m\u001b[0m\n\u001b[0;32m--> 291\u001b[0;31m             \u001b[0mbind_floating_ip\u001b[0m\u001b[0;34m(\u001b[0m\u001b[0mfloating_ip_address\u001b[0m\u001b[0;34m,\u001b[0m \u001b[0mport_id\u001b[0m\u001b[0;34m=\u001b[0m\u001b[0mport\u001b[0m\u001b[0;34m)\u001b[0m\u001b[0;34m\u001b[0m\u001b[0;34m\u001b[0m\u001b[0m\n\u001b[0m\u001b[1;32m    292\u001b[0m             \u001b[0;32mreturn\u001b[0m \u001b[0mfloating_ip_address\u001b[0m\u001b[0;34m\u001b[0m\u001b[0;34m\u001b[0m\u001b[0m\n\u001b[1;32m    293\u001b[0m \u001b[0;34m\u001b[0m\u001b[0m\n",
      "\u001b[0;32m/opt/conda/lib/python3.9/site-packages/chi/network.py\u001b[0m in \u001b[0;36mbind_floating_ip\u001b[0;34m(ip_address, port_id, fixed_ip_address)\u001b[0m\n\u001b[1;32m    729\u001b[0m     \"\"\"\n\u001b[1;32m    730\u001b[0m     \u001b[0mfip\u001b[0m \u001b[0;34m=\u001b[0m \u001b[0mget_floating_ip\u001b[0m\u001b[0;34m(\u001b[0m\u001b[0mip_address\u001b[0m\u001b[0;34m)\u001b[0m\u001b[0;34m\u001b[0m\u001b[0;34m\u001b[0m\u001b[0m\n\u001b[0;32m--> 731\u001b[0;31m     neutron().update_floatingip(fip[\"id\"], body={\n\u001b[0m\u001b[1;32m    732\u001b[0m         \"floatingip\": {\n\u001b[1;32m    733\u001b[0m             \u001b[0;34m\"port_id\"\u001b[0m\u001b[0;34m:\u001b[0m \u001b[0mport_id\u001b[0m\u001b[0;34m,\u001b[0m\u001b[0;34m\u001b[0m\u001b[0;34m\u001b[0m\u001b[0m\n",
      "\u001b[0;32m/opt/conda/lib/python3.9/site-packages/neutronclient/v2_0/client.py\u001b[0m in \u001b[0;36mupdate_floatingip\u001b[0;34m(self, floatingip, body, revision_number)\u001b[0m\n\u001b[1;32m   1002\u001b[0m     \u001b[0;32mdef\u001b[0m \u001b[0mupdate_floatingip\u001b[0m\u001b[0;34m(\u001b[0m\u001b[0mself\u001b[0m\u001b[0;34m,\u001b[0m \u001b[0mfloatingip\u001b[0m\u001b[0;34m,\u001b[0m \u001b[0mbody\u001b[0m\u001b[0;34m=\u001b[0m\u001b[0;32mNone\u001b[0m\u001b[0;34m,\u001b[0m \u001b[0mrevision_number\u001b[0m\u001b[0;34m=\u001b[0m\u001b[0;32mNone\u001b[0m\u001b[0;34m)\u001b[0m\u001b[0;34m:\u001b[0m\u001b[0;34m\u001b[0m\u001b[0;34m\u001b[0m\u001b[0m\n\u001b[1;32m   1003\u001b[0m         \u001b[0;34m\"\"\"Updates a floatingip.\"\"\"\u001b[0m\u001b[0;34m\u001b[0m\u001b[0;34m\u001b[0m\u001b[0m\n\u001b[0;32m-> 1004\u001b[0;31m         return self._update_resource(self.floatingip_path % (floatingip),\n\u001b[0m\u001b[1;32m   1005\u001b[0m                                      \u001b[0mbody\u001b[0m\u001b[0;34m=\u001b[0m\u001b[0mbody\u001b[0m\u001b[0;34m,\u001b[0m\u001b[0;34m\u001b[0m\u001b[0;34m\u001b[0m\u001b[0m\n\u001b[1;32m   1006\u001b[0m                                      revision_number=revision_number)\n",
      "\u001b[0;32m/opt/conda/lib/python3.9/site-packages/neutronclient/v2_0/client.py\u001b[0m in \u001b[0;36m_update_resource\u001b[0;34m(self, path, **kwargs)\u001b[0m\n\u001b[1;32m   2450\u001b[0m             \u001b[0mheaders\u001b[0m \u001b[0;34m=\u001b[0m \u001b[0mkwargs\u001b[0m\u001b[0;34m.\u001b[0m\u001b[0msetdefault\u001b[0m\u001b[0;34m(\u001b[0m\u001b[0;34m'headers'\u001b[0m\u001b[0;34m,\u001b[0m \u001b[0;34m{\u001b[0m\u001b[0;34m}\u001b[0m\u001b[0;34m)\u001b[0m\u001b[0;34m\u001b[0m\u001b[0;34m\u001b[0m\u001b[0m\n\u001b[1;32m   2451\u001b[0m             \u001b[0mheaders\u001b[0m\u001b[0;34m[\u001b[0m\u001b[0;34m'If-Match'\u001b[0m\u001b[0;34m]\u001b[0m \u001b[0;34m=\u001b[0m \u001b[0;34m'revision_number=%s'\u001b[0m \u001b[0;34m%\u001b[0m \u001b[0mrevision_number\u001b[0m\u001b[0;34m\u001b[0m\u001b[0;34m\u001b[0m\u001b[0m\n\u001b[0;32m-> 2452\u001b[0;31m         \u001b[0;32mreturn\u001b[0m \u001b[0mself\u001b[0m\u001b[0;34m.\u001b[0m\u001b[0mput\u001b[0m\u001b[0;34m(\u001b[0m\u001b[0mpath\u001b[0m\u001b[0;34m,\u001b[0m \u001b[0;34m**\u001b[0m\u001b[0mkwargs\u001b[0m\u001b[0;34m)\u001b[0m\u001b[0;34m\u001b[0m\u001b[0;34m\u001b[0m\u001b[0m\n\u001b[0m\u001b[1;32m   2453\u001b[0m \u001b[0;34m\u001b[0m\u001b[0m\n\u001b[1;32m   2454\u001b[0m     \u001b[0;32mdef\u001b[0m \u001b[0mextend_show\u001b[0m\u001b[0;34m(\u001b[0m\u001b[0mself\u001b[0m\u001b[0;34m,\u001b[0m \u001b[0mresource_singular\u001b[0m\u001b[0;34m,\u001b[0m \u001b[0mpath\u001b[0m\u001b[0;34m,\u001b[0m \u001b[0mparent_resource\u001b[0m\u001b[0;34m)\u001b[0m\u001b[0;34m:\u001b[0m\u001b[0;34m\u001b[0m\u001b[0;34m\u001b[0m\u001b[0m\n",
      "\u001b[0;32m/opt/conda/lib/python3.9/site-packages/neutronclient/v2_0/client.py\u001b[0m in \u001b[0;36mput\u001b[0;34m(self, action, body, headers, params)\u001b[0m\n\u001b[1;32m    363\u001b[0m \u001b[0;34m\u001b[0m\u001b[0m\n\u001b[1;32m    364\u001b[0m     \u001b[0;32mdef\u001b[0m \u001b[0mput\u001b[0m\u001b[0;34m(\u001b[0m\u001b[0mself\u001b[0m\u001b[0;34m,\u001b[0m \u001b[0maction\u001b[0m\u001b[0;34m,\u001b[0m \u001b[0mbody\u001b[0m\u001b[0;34m=\u001b[0m\u001b[0;32mNone\u001b[0m\u001b[0;34m,\u001b[0m \u001b[0mheaders\u001b[0m\u001b[0;34m=\u001b[0m\u001b[0;32mNone\u001b[0m\u001b[0;34m,\u001b[0m \u001b[0mparams\u001b[0m\u001b[0;34m=\u001b[0m\u001b[0;32mNone\u001b[0m\u001b[0;34m)\u001b[0m\u001b[0;34m:\u001b[0m\u001b[0;34m\u001b[0m\u001b[0;34m\u001b[0m\u001b[0m\n\u001b[0;32m--> 365\u001b[0;31m         return self.retry_request(\"PUT\", action, body=body,\n\u001b[0m\u001b[1;32m    366\u001b[0m                                   headers=headers, params=params)\n\u001b[1;32m    367\u001b[0m \u001b[0;34m\u001b[0m\u001b[0m\n",
      "\u001b[0;32m/opt/conda/lib/python3.9/site-packages/neutronclient/v2_0/client.py\u001b[0m in \u001b[0;36mretry_request\u001b[0;34m(self, method, action, body, headers, params)\u001b[0m\n\u001b[1;32m    331\u001b[0m         \u001b[0;32mfor\u001b[0m \u001b[0mi\u001b[0m \u001b[0;32min\u001b[0m \u001b[0mrange\u001b[0m\u001b[0;34m(\u001b[0m\u001b[0mmax_attempts\u001b[0m\u001b[0;34m)\u001b[0m\u001b[0;34m:\u001b[0m\u001b[0;34m\u001b[0m\u001b[0;34m\u001b[0m\u001b[0m\n\u001b[1;32m    332\u001b[0m             \u001b[0;32mtry\u001b[0m\u001b[0;34m:\u001b[0m\u001b[0;34m\u001b[0m\u001b[0;34m\u001b[0m\u001b[0m\n\u001b[0;32m--> 333\u001b[0;31m                 return self.do_request(method, action, body=body,\n\u001b[0m\u001b[1;32m    334\u001b[0m                                        headers=headers, params=params)\n\u001b[1;32m    335\u001b[0m             \u001b[0;32mexcept\u001b[0m \u001b[0;34m(\u001b[0m\u001b[0mexceptions\u001b[0m\u001b[0;34m.\u001b[0m\u001b[0mConnectionFailed\u001b[0m\u001b[0;34m,\u001b[0m \u001b[0mksa_exc\u001b[0m\u001b[0;34m.\u001b[0m\u001b[0mConnectionError\u001b[0m\u001b[0;34m)\u001b[0m\u001b[0;34m:\u001b[0m\u001b[0;34m\u001b[0m\u001b[0;34m\u001b[0m\u001b[0m\n",
      "\u001b[0;32m/opt/conda/lib/python3.9/site-packages/neutronclient/v2_0/client.py\u001b[0m in \u001b[0;36mdo_request\u001b[0;34m(self, method, action, body, headers, params)\u001b[0m\n\u001b[1;32m    295\u001b[0m             \u001b[0;32mif\u001b[0m \u001b[0;32mnot\u001b[0m \u001b[0mreplybody\u001b[0m\u001b[0;34m:\u001b[0m\u001b[0;34m\u001b[0m\u001b[0;34m\u001b[0m\u001b[0m\n\u001b[1;32m    296\u001b[0m                 \u001b[0mreplybody\u001b[0m \u001b[0;34m=\u001b[0m \u001b[0mresp\u001b[0m\u001b[0;34m.\u001b[0m\u001b[0mreason\u001b[0m\u001b[0;34m\u001b[0m\u001b[0;34m\u001b[0m\u001b[0m\n\u001b[0;32m--> 297\u001b[0;31m             \u001b[0mself\u001b[0m\u001b[0;34m.\u001b[0m\u001b[0m_handle_fault_response\u001b[0m\u001b[0;34m(\u001b[0m\u001b[0mstatus_code\u001b[0m\u001b[0;34m,\u001b[0m \u001b[0mreplybody\u001b[0m\u001b[0;34m,\u001b[0m \u001b[0mresp\u001b[0m\u001b[0;34m)\u001b[0m\u001b[0;34m\u001b[0m\u001b[0;34m\u001b[0m\u001b[0m\n\u001b[0m\u001b[1;32m    298\u001b[0m \u001b[0;34m\u001b[0m\u001b[0m\n\u001b[1;32m    299\u001b[0m     \u001b[0;32mdef\u001b[0m \u001b[0mget_auth_info\u001b[0m\u001b[0;34m(\u001b[0m\u001b[0mself\u001b[0m\u001b[0;34m)\u001b[0m\u001b[0;34m:\u001b[0m\u001b[0;34m\u001b[0m\u001b[0;34m\u001b[0m\u001b[0m\n",
      "\u001b[0;32m/opt/conda/lib/python3.9/site-packages/neutronclient/v2_0/client.py\u001b[0m in \u001b[0;36m_handle_fault_response\u001b[0;34m(self, status_code, response_body, resp)\u001b[0m\n\u001b[1;32m    270\u001b[0m         \u001b[0merror_body\u001b[0m \u001b[0;34m=\u001b[0m \u001b[0mself\u001b[0m\u001b[0;34m.\u001b[0m\u001b[0m_convert_into_with_meta\u001b[0m\u001b[0;34m(\u001b[0m\u001b[0mdes_error_body\u001b[0m\u001b[0;34m,\u001b[0m \u001b[0mresp\u001b[0m\u001b[0;34m)\u001b[0m\u001b[0;34m\u001b[0m\u001b[0;34m\u001b[0m\u001b[0m\n\u001b[1;32m    271\u001b[0m         \u001b[0;31m# Raise the appropriate exception\u001b[0m\u001b[0;34m\u001b[0m\u001b[0;34m\u001b[0m\u001b[0m\n\u001b[0;32m--> 272\u001b[0;31m         \u001b[0mexception_handler_v20\u001b[0m\u001b[0;34m(\u001b[0m\u001b[0mstatus_code\u001b[0m\u001b[0;34m,\u001b[0m \u001b[0merror_body\u001b[0m\u001b[0;34m)\u001b[0m\u001b[0;34m\u001b[0m\u001b[0;34m\u001b[0m\u001b[0m\n\u001b[0m\u001b[1;32m    273\u001b[0m \u001b[0;34m\u001b[0m\u001b[0m\n\u001b[1;32m    274\u001b[0m     \u001b[0;32mdef\u001b[0m \u001b[0mdo_request\u001b[0m\u001b[0;34m(\u001b[0m\u001b[0mself\u001b[0m\u001b[0;34m,\u001b[0m \u001b[0mmethod\u001b[0m\u001b[0;34m,\u001b[0m \u001b[0maction\u001b[0m\u001b[0;34m,\u001b[0m \u001b[0mbody\u001b[0m\u001b[0;34m=\u001b[0m\u001b[0;32mNone\u001b[0m\u001b[0;34m,\u001b[0m \u001b[0mheaders\u001b[0m\u001b[0;34m=\u001b[0m\u001b[0;32mNone\u001b[0m\u001b[0;34m,\u001b[0m \u001b[0mparams\u001b[0m\u001b[0;34m=\u001b[0m\u001b[0;32mNone\u001b[0m\u001b[0;34m)\u001b[0m\u001b[0;34m:\u001b[0m\u001b[0;34m\u001b[0m\u001b[0;34m\u001b[0m\u001b[0m\n",
      "\u001b[0;32m/opt/conda/lib/python3.9/site-packages/neutronclient/v2_0/client.py\u001b[0m in \u001b[0;36mexception_handler_v20\u001b[0;34m(status_code, error_content)\u001b[0m\n\u001b[1;32m     88\u001b[0m         \u001b[0mclient_exc\u001b[0m \u001b[0;34m=\u001b[0m \u001b[0mexceptions\u001b[0m\u001b[0;34m.\u001b[0m\u001b[0mNeutronClientException\u001b[0m\u001b[0;34m\u001b[0m\u001b[0;34m\u001b[0m\u001b[0m\n\u001b[1;32m     89\u001b[0m \u001b[0;34m\u001b[0m\u001b[0m\n\u001b[0;32m---> 90\u001b[0;31m     raise client_exc(message=error_message,\n\u001b[0m\u001b[1;32m     91\u001b[0m                      \u001b[0mstatus_code\u001b[0m\u001b[0;34m=\u001b[0m\u001b[0mstatus_code\u001b[0m\u001b[0;34m,\u001b[0m\u001b[0;34m\u001b[0m\u001b[0;34m\u001b[0m\u001b[0m\n\u001b[1;32m     92\u001b[0m                      request_ids=request_ids)\n",
      "\u001b[0;31mConflict\u001b[0m: Cannot associate floating IP 129.114.34.217 (3acdd521-47a1-4177-b450-f5436c66f24e) with port 1d314e75-09b7-4e15-952b-687989924239 using fixed IP 192.168.64.52, as that fixed IP already has a floating IP on external network 17446dec-0c72-4d28-abf5-99f43e152221.\nNeutron server returns request_ids: ['req-92ecf4a1-5d2d-49e2-a29f-ef05ec10ff50']"
     ]
    }
   ],
   "source": [
    "public_ip = container.associate_floating_ip(my_container.uuid)\n",
    "\n",
    "print(f\"http://{public_ip}:8888\")"
   ]
  },
  {
   "cell_type": "code",
   "execution_count": 41,
   "id": "35957fa4-4f3d-4f84-aab0-7bdb62b4ad7a",
   "metadata": {},
   "outputs": [
    {
     "name": "stdout",
     "output_type": "stream",
     "text": [
      "09aff40b-02b4-44ea-b23b-3cfda53176b6\n"
     ]
    }
   ],
   "source": [
    "print(my_container.uuid)\n"
   ]
  },
  {
   "cell_type": "code",
   "execution_count": null,
   "id": "a7db4ab4-a050-44d8-9ae3-57ffb987ed51",
   "metadata": {},
   "outputs": [],
   "source": [
    "jupyter_server_private_ip = list(jupyter_server.addresses.values())[0][0][\"addr\"]\n",
    "print(f\"Private IP: {jupyter_server_private_ip}\")"
   ]
  },
  {
   "cell_type": "code",
   "execution_count": 44,
   "id": "36d84e7b-15ae-48c8-adb6-9a5084ddeef0",
   "metadata": {},
   "outputs": [
    {
     "name": "stdout",
     "output_type": "stream",
     "text": [
      "http://129.114.34.217:8888\n"
     ]
    }
   ],
   "source": [
    "public_ip = container.associate_floating_ip(jupyter_server.uuid)\n",
    "\n",
    "print(f\"http://{public_ip}:8888\")"
   ]
  },
  {
   "cell_type": "code",
   "execution_count": 12,
   "id": "e14c30b4-23f3-4a85-a3af-be97b8fb881a",
   "metadata": {},
   "outputs": [
    {
     "name": "stdout",
     "output_type": "stream",
     "text": [
      "E: Could not open lock file /var/lib/dpkg/lock-frontend - open (13: Permission denied)\n",
      "E: Unable to acquire the dpkg frontend lock (/var/lib/dpkg/lock-frontend), are you root?\n"
     ]
    }
   ],
   "source": [
    "!apt-get install curl"
   ]
  },
  {
   "cell_type": "code",
   "execution_count": 11,
   "id": "9df19391-3b12-48c6-a7c7-cc3922dc15b8",
   "metadata": {},
   "outputs": [
    {
     "name": "stdout",
     "output_type": "stream",
     "text": [
      "curl: (28) Failed to connect to 192.168.64.55 port 8888: Connection timed out\n"
     ]
    }
   ],
   "source": [
    "!curl 192.168.64.55:8888/lab?token=0cf3806ab47cc3a79aae9c3557fcce8880807f188479a672\n"
   ]
  },
  {
   "cell_type": "code",
   "execution_count": null,
   "id": "a5b4d11b-42a5-4bf6-a9b8-e0176dbb02e9",
   "metadata": {},
   "outputs": [],
   "source": [
    "!curl http://129.114.34.214:8888/lab?token=0cf3806ab47cc3a79aae9c3557fcce8880807f188479a672"
   ]
  },
  {
   "cell_type": "code",
   "execution_count": 16,
   "id": "5f508c9e-72ed-49cf-97cc-ebc780d8bfc1",
   "metadata": {},
   "outputs": [
    {
     "name": "stdout",
     "output_type": "stream",
     "text": [
      "Deleted lease with id 151825fe-2bd3-4eef-abd5-7916fc1c989d\n"
     ]
    }
   ],
   "source": [
    "#lease.delete_lease(lease_id)"
   ]
  },
  {
   "cell_type": "code",
   "execution_count": null,
   "id": "30b8d2d9-d84d-4719-ace9-f22511d5960a",
   "metadata": {},
   "outputs": [],
   "source": []
  }
 ],
 "metadata": {
  "kernelspec": {
   "display_name": "Python 3.10.4 64-bit",
   "language": "python",
   "name": "python3"
  },
  "language_info": {
   "codemirror_mode": {
    "name": "ipython",
    "version": 3
   },
   "file_extension": ".py",
   "mimetype": "text/x-python",
   "name": "python",
   "nbconvert_exporter": "python",
   "pygments_lexer": "ipython3",
   "version": "3.10.4"
  },
  "vscode": {
   "interpreter": {
    "hash": "916dbcbb3f70747c44a77c7bcd40155683ae19c65e1c03b4aa3499c5328201f1"
   }
  }
 },
 "nbformat": 4,
 "nbformat_minor": 5
}
