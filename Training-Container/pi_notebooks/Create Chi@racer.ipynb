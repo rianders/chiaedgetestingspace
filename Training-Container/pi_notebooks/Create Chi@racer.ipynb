{
 "cells": [
  {
   "cell_type": "code",
   "execution_count": null,
   "id": "17590701",
   "metadata": {},
   "outputs": [],
   "source": [
    "!pip install python-chi-edge\n",
    "# run in terminal\n",
    "#!source app-cred-pidesktop-openrc.sh"
   ]
  },
  {
   "cell_type": "code",
   "execution_count": 13,
   "id": "f3d0598f",
   "metadata": {},
   "outputs": [
    {
     "name": "stdout",
     "output_type": "stream",
     "text": [
      "              ╷                  ╷                 ╷        ╷                   \r\n",
      " \u001b[1;32m \u001b[0m\u001b[1;32mName       \u001b[0m\u001b[1;32m \u001b[0m│\u001b[1;32m \u001b[0m\u001b[1;32mUUID            \u001b[0m\u001b[1;32m \u001b[0m│\u001b[1;32m \u001b[0m\u001b[1;32mRegistered at  \u001b[0m\u001b[1;32m \u001b[0m│\u001b[1;32m \u001b[0m\u001b[1;32mHealth\u001b[0m\u001b[1;32m \u001b[0m│\u001b[1;32m \u001b[0m\u001b[1;32mLast seen       \u001b[0m\u001b[1;32m \u001b[0m \r\n",
      "╺━━━━━━━━━━━━━┿━━━━━━━━━━━━━━━━━━┿━━━━━━━━━━━━━━━━━┿━━━━━━━━┿━━━━━━━━━━━━━━━━━━╸\r\n",
      "  rpi-llc-3   │ f0d18a25-4933-4… │ 2022-04-04T15:… │ 4/4    │ 2022-04-15T19:5…  \r\n",
      "  rpi-llc-4   │ 1f704991-f457-4… │ 2022-04-04T18:… │ 2/4    │                   \r\n",
      "  rpi-llc-2   │ 32a7e232-271c-4… │ 2022-07-06T14:… │ 4/4    │ 2022-07-07T12:5…  \r\n",
      "  chiaracer-1 │ 452aa267-99e1-4… │ 2022-07-08T10:… │ 4/4    │ 2022-07-08T10:5…  \r\n",
      "              ╵                  ╵                 ╵        ╵                   \r\n"
     ]
    }
   ],
   "source": [
    "!chi-edge device list"
   ]
  },
  {
   "cell_type": "code",
   "execution_count": 2,
   "id": "68f31d77",
   "metadata": {},
   "outputs": [
    {
     "name": "stdout",
     "output_type": "stream",
     "text": [
      "╭─ \u001b[1;32mchiaracer-1\u001b[0m ── 452aa267-99e1-46bf-af89-7c3e71a03478 ────────────────────────╮\r\n",
      "│                                 ╷                                            │\r\n",
      "│  \u001b[1;32m \u001b[0m\u001b[1;32mProperty                     \u001b[0m\u001b[1;32m \u001b[0m│\u001b[1;32m \u001b[0m\u001b[1;32mValue                           \u001b[0m\u001b[1;32m \u001b[0m          │\r\n",
      "│ ╺━━━━━━━━━━━━━━━━━━━━━━━━━━━━━━━┿━━━━━━━━━━━━━━━━━━━━━━━━━━━━━━━━━━╸         │\r\n",
      "│   application_credential_id     │ 7d2629b029824ecd821a7c38dfe523ac           │\r\n",
      "│   application_credential_secret │ ************                               │\r\n",
      "│   blazar_device_driver          │ k8s                                        │\r\n",
      "│   contact_email                 │ rianders@docs.rutgers.edu                  │\r\n",
      "│   machine_name                  │ raspberrypi4-64                            │\r\n",
      "│                                 ╵                                            │\r\n",
      "│ Health details                                                               │\r\n",
      "│                 ╷         ╷               ╷         ╷                        │\r\n",
      "│  \u001b[34m \u001b[0m\u001b[34m             \u001b[0m\u001b[34m \u001b[0m│\u001b[34m \u001b[0m\u001b[34mbalena \u001b[0m\u001b[34m \u001b[0m│\u001b[34m \u001b[0m\u001b[34mblazar.device\u001b[0m\u001b[34m \u001b[0m│\u001b[34m \u001b[0m\u001b[34mk8s    \u001b[0m\u001b[34m \u001b[0m│\u001b[34m \u001b[0m\u001b[34mtunelo \u001b[0m\u001b[34m \u001b[0m               │\r\n",
      "│ ╺━━━━━━━━━━━━━━━┿━━━━━━━━━┿━━━━━━━━━━━━━━━┿━━━━━━━━━┿━━━━━━━━━╸              │\r\n",
      "│   state         │ PENDING │ PENDING       │ PENDING │ PENDING                │\r\n",
      "│   state_details │ {}      │ {}            │ {}      │ {}                     │\r\n",
      "│                 ╵         ╵               ╵         ╵                        │\r\n",
      "╰──────────────────────────────────────────────────────────────────────────────╯\r\n"
     ]
    }
   ],
   "source": [
    "!chi-edge device register \\\n",
    "  --contact-email rianders@docs.rutgers.edu --machine-name raspberrypi4-64 \\\n",
    "  --application-credential-id 7d2629b029824ecd821a7c38dfe523ac --application-credential-secret 728UdS#x0gqi \\\n",
    "  chiaracer-1"
   ]
  },
  {
   "cell_type": "code",
   "execution_count": 14,
   "id": "aa9e2e15",
   "metadata": {},
   "outputs": [
    {
     "name": "stdout",
     "output_type": "stream",
     "text": [
      "╭─ \u001b[1;32mchiaracer-1\u001b[0m ── 452aa267-99e1-46bf-af89-7c3e71a03478 ────────────────────────╮\r\n",
      "│                                 ╷                                            │\r\n",
      "│  \u001b[1;32m \u001b[0m\u001b[1;32mProperty                     \u001b[0m\u001b[1;32m \u001b[0m│\u001b[1;32m \u001b[0m\u001b[1;32mValue                                   \u001b[0m\u001b[1;32m \u001b[0m  │\r\n",
      "│ ╺━━━━━━━━━━━━━━━━━━━━━━━━━━━━━━━┿━━━━━━━━━━━━━━━━━━━━━━━━━━━━━━━━━━━━━━━━━━╸ │\r\n",
      "│   application_credential_id     │ 7d2629b029824ecd821a7c38dfe523ac           │\r\n",
      "│   application_credential_secret │ ************                               │\r\n",
      "│   blazar_device_driver          │ k8s                                        │\r\n",
      "│   channels                      │ user:                                      │\r\n",
      "│                                 │   channel_type: wireguard                  │\r\n",
      "│                                 │   public_key:                              │\r\n",
      "│                                 │ pTKvBYo7Jl9mZOl39H9PgvtFYKLhztJhoGygMUh…   │\r\n",
      "│   contact_email                 │ rianders@docs.rutgers.edu                  │\r\n",
      "│   machine_name                  │ raspberrypi4-64                            │\r\n",
      "│                                 ╵                                            │\r\n",
      "│ Health details                                                               │\r\n",
      "│                ╷              ╷              ╷              ╷                │\r\n",
      "│  \u001b[34m \u001b[0m\u001b[34m            \u001b[0m\u001b[34m \u001b[0m│\u001b[34m \u001b[0m\u001b[34mbalena      \u001b[0m\u001b[34m \u001b[0m│\u001b[34m \u001b[0m\u001b[34mblazar.devi…\u001b[0m\u001b[34m \u001b[0m│\u001b[34m \u001b[0m\u001b[34mk8s         \u001b[0m\u001b[34m \u001b[0m│\u001b[34m \u001b[0m\u001b[34mtunelo      \u001b[0m\u001b[34m \u001b[0m  │\r\n",
      "│ ╺━━━━━━━━━━━━━━┿━━━━━━━━━━━━━━┿━━━━━━━━━━━━━━┿━━━━━━━━━━━━━━┿━━━━━━━━━━━━━━╸ │\r\n",
      "│   state        │ STEADY       │ STEADY       │ STEADY       │ STEADY         │\r\n",
      "│   state_detai… │ device_api_… │ blazar_reso… │ num_labels:  │ channels:      │\r\n",
      "│                │ AdArgY26qtV… │ 45a18225-4f… │ 2            │   user:        │\r\n",
      "│                │ device_id:   │ resource_cr… │              │     endpoin…   │\r\n",
      "│                │ 7393718      │ '2022-07-08  │              │ null           │\r\n",
      "│                │ fleet_id:    │ 15:46:29'    │              │     ip:        │\r\n",
      "│                │ 1918419      │              │              │ 10.0.3.37      │\r\n",
      "│                │ last_seen:   │              │              │     peers:     │\r\n",
      "│                │ '2022-07-08… │              │              │     -          │\r\n",
      "│                │              │              │              │ endpoint:      │\r\n",
      "│                │              │              │              │ 129.114.34.…   │\r\n",
      "│                │              │              │              │       ip:      │\r\n",
      "│                │              │              │              │ 10.0.3.2       │\r\n",
      "│                │              │              │              │       publi…   │\r\n",
      "│                │              │              │              │ zgg29Urn5Ww…   │\r\n",
      "│                │              │              │              │     uuid:      │\r\n",
      "│                │              │              │              │ 7f52cf4b-f0…   │\r\n",
      "│                ╵              ╵              ╵              ╵                │\r\n",
      "╰──────────────────────────────────────────────────────────────────────────────╯\r\n"
     ]
    }
   ],
   "source": [
    "# View details for a single device\n",
    "!chi-edge device show chiaracer-1\n",
    "# Get uuid"
   ]
  },
  {
   "cell_type": "code",
   "execution_count": null,
   "id": "f6b86734",
   "metadata": {},
   "outputs": [],
   "source": []
  }
 ],
 "metadata": {
  "kernelspec": {
   "display_name": "Python 3 (ipykernel)",
   "language": "python",
   "name": "python3"
  },
  "language_info": {
   "codemirror_mode": {
    "name": "ipython",
    "version": 3
   },
   "file_extension": ".py",
   "mimetype": "text/x-python",
   "name": "python",
   "nbconvert_exporter": "python",
   "pygments_lexer": "ipython3",
   "version": "3.9.2"
  }
 },
 "nbformat": 4,
 "nbformat_minor": 5
}
