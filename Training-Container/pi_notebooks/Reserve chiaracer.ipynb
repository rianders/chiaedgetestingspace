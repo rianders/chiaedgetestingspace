{
 "cells": [
  {
   "cell_type": "markdown",
   "id": "fade49bc",
   "metadata": {},
   "source": [
    "# How to reserve a CHIA racer\n",
    "\n",
    "Remember to `source Documents/app....`\n",
    "\n",
    "Documentation for the chi-edge api is here: https://chameleoncloud.readthedocs.io/en/latest/getting-started-edge/index.html"
   ]
  },
  {
   "cell_type": "code",
   "execution_count": 9,
   "id": "8bd339f0",
   "metadata": {},
   "outputs": [
    {
     "name": "stdout",
     "output_type": "stream",
     "text": [
      "Looking in indexes: https://pypi.org/simple, https://www.piwheels.org/simple\n",
      "Requirement already satisfied: python-chi-edge in /home/pi/.local/lib/python3.9/site-packages (0.2.2)\n",
      "Requirement already satisfied: rich<12.0.0,>=11.2.0 in /home/pi/.local/lib/python3.9/site-packages (from python-chi-edge) (11.2.0)\n",
      "Requirement already satisfied: python-chi<0.16.0,>=0.15.4 in /home/pi/.local/lib/python3.9/site-packages (from python-chi-edge) (0.15.7)\n",
      "Requirement already satisfied: keystoneauth1<5.0.0,>=4.4.0 in /home/pi/.local/lib/python3.9/site-packages (from python-chi-edge) (4.6.0)\n",
      "Requirement already satisfied: PyYAML<7.0,>=6.0 in /home/pi/.local/lib/python3.9/site-packages (from python-chi-edge) (6.0)\n",
      "Requirement already satisfied: click<9.0.0,>=8.0.1 in /home/pi/.local/lib/python3.9/site-packages (from python-chi-edge) (8.1.3)\n",
      "Requirement already satisfied: requests>=2.14.2 in /usr/lib/python3/dist-packages (from keystoneauth1<5.0.0,>=4.4.0->python-chi-edge) (2.25.1)\n",
      "Requirement already satisfied: pbr!=2.1.0,>=2.0.0 in /home/pi/.local/lib/python3.9/site-packages (from keystoneauth1<5.0.0,>=4.4.0->python-chi-edge) (5.9.0)\n",
      "Requirement already satisfied: iso8601>=0.1.11 in /home/pi/.local/lib/python3.9/site-packages (from keystoneauth1<5.0.0,>=4.4.0->python-chi-edge) (1.0.2)\n",
      "Requirement already satisfied: os-service-types>=1.2.0 in /home/pi/.local/lib/python3.9/site-packages (from keystoneauth1<5.0.0,>=4.4.0->python-chi-edge) (1.7.0)\n",
      "Requirement already satisfied: six>=1.10.0 in /usr/lib/python3/dist-packages (from keystoneauth1<5.0.0,>=4.4.0->python-chi-edge) (1.16.0)\n",
      "Requirement already satisfied: stevedore>=1.20.0 in /home/pi/.local/lib/python3.9/site-packages (from keystoneauth1<5.0.0,>=4.4.0->python-chi-edge) (3.5.0)\n",
      "Requirement already satisfied: python-ironicclient in /home/pi/.local/lib/python3.9/site-packages (from python-chi<0.16.0,>=0.15.4->python-chi-edge) (4.11.0)\n",
      "Requirement already satisfied: python-glanceclient in /home/pi/.local/lib/python3.9/site-packages (from python-chi<0.16.0,>=0.15.4->python-chi-edge) (4.0.0)\n",
      "Requirement already satisfied: python-blazarclient in /home/pi/.local/lib/python3.9/site-packages (from python-chi<0.16.0,>=0.15.4->python-chi-edge) (3.4.0)\n",
      "Requirement already satisfied: openstacksdk in /home/pi/.local/lib/python3.9/site-packages (from python-chi<0.16.0,>=0.15.4->python-chi-edge) (0.99.0)\n",
      "Requirement already satisfied: python-novaclient in /home/pi/.local/lib/python3.9/site-packages (from python-chi<0.16.0,>=0.15.4->python-chi-edge) (18.0.0)\n",
      "Requirement already satisfied: gnocchiclient in /home/pi/.local/lib/python3.9/site-packages (from python-chi<0.16.0,>=0.15.4->python-chi-edge) (7.0.7)\n",
      "Requirement already satisfied: paramiko in /home/pi/.local/lib/python3.9/site-packages (from python-chi<0.16.0,>=0.15.4->python-chi-edge) (2.11.0)\n",
      "Requirement already satisfied: python-neutronclient in /home/pi/.local/lib/python3.9/site-packages (from python-chi<0.16.0,>=0.15.4->python-chi-edge) (7.8.0)\n",
      "Requirement already satisfied: python-zunclient in /home/pi/.local/lib/python3.9/site-packages (from python-chi<0.16.0,>=0.15.4->python-chi-edge) (4.5.0)\n",
      "Requirement already satisfied: fabric in /home/pi/.local/lib/python3.9/site-packages (from python-chi<0.16.0,>=0.15.4->python-chi-edge) (2.7.0)\n",
      "Requirement already satisfied: pygments<3.0.0,>=2.6.0 in /usr/lib/python3/dist-packages (from rich<12.0.0,>=11.2.0->python-chi-edge) (2.7.1)\n",
      "Requirement already satisfied: commonmark<0.10.0,>=0.9.0 in /home/pi/.local/lib/python3.9/site-packages (from rich<12.0.0,>=11.2.0->python-chi-edge) (0.9.1)\n",
      "Requirement already satisfied: colorama<0.5.0,>=0.4.0 in /usr/lib/python3/dist-packages (from rich<12.0.0,>=11.2.0->python-chi-edge) (0.4.4)\n",
      "Requirement already satisfied: invoke<2.0,>=1.3 in /home/pi/.local/lib/python3.9/site-packages (from fabric->python-chi<0.16.0,>=0.15.4->python-chi-edge) (1.7.1)\n",
      "Requirement already satisfied: pathlib2 in /home/pi/.local/lib/python3.9/site-packages (from fabric->python-chi<0.16.0,>=0.15.4->python-chi-edge) (2.3.7.post1)\n",
      "Requirement already satisfied: pynacl>=1.0.1 in /home/pi/.local/lib/python3.9/site-packages (from paramiko->python-chi<0.16.0,>=0.15.4->python-chi-edge) (1.5.0)\n",
      "Requirement already satisfied: cryptography>=2.5 in /usr/lib/python3/dist-packages (from paramiko->python-chi<0.16.0,>=0.15.4->python-chi-edge) (3.3.2)\n",
      "Requirement already satisfied: bcrypt>=3.1.3 in /home/pi/.local/lib/python3.9/site-packages (from paramiko->python-chi<0.16.0,>=0.15.4->python-chi-edge) (3.2.2)\n",
      "Requirement already satisfied: cffi>=1.1 in /home/pi/.local/lib/python3.9/site-packages (from bcrypt>=3.1.3->paramiko->python-chi<0.16.0,>=0.15.4->python-chi-edge) (1.15.1)\n",
      "Requirement already satisfied: pycparser in /home/pi/.local/lib/python3.9/site-packages (from cffi>=1.1->bcrypt>=3.1.3->paramiko->python-chi<0.16.0,>=0.15.4->python-chi-edge) (2.21)\n",
      "Requirement already satisfied: python-dateutil in /home/pi/.local/lib/python3.9/site-packages (from gnocchiclient->python-chi<0.16.0,>=0.15.4->python-chi-edge) (2.8.2)\n",
      "Requirement already satisfied: debtcollector in /home/pi/.local/lib/python3.9/site-packages (from gnocchiclient->python-chi<0.16.0,>=0.15.4->python-chi-edge) (2.5.0)\n",
      "Requirement already satisfied: ujson in /home/pi/.local/lib/python3.9/site-packages (from gnocchiclient->python-chi<0.16.0,>=0.15.4->python-chi-edge) (5.4.0)\n",
      "Requirement already satisfied: futurist in /home/pi/.local/lib/python3.9/site-packages (from gnocchiclient->python-chi<0.16.0,>=0.15.4->python-chi-edge) (2.4.1)\n",
      "Requirement already satisfied: monotonic in /home/pi/.local/lib/python3.9/site-packages (from gnocchiclient->python-chi<0.16.0,>=0.15.4->python-chi-edge) (1.6)\n",
      "Requirement already satisfied: cliff>=2.10 in /home/pi/.local/lib/python3.9/site-packages (from gnocchiclient->python-chi<0.16.0,>=0.15.4->python-chi-edge) (3.10.1)\n",
      "Requirement already satisfied: autopage>=0.4.0 in /home/pi/.local/lib/python3.9/site-packages (from cliff>=2.10->gnocchiclient->python-chi<0.16.0,>=0.15.4->python-chi-edge) (0.5.1)\n",
      "Requirement already satisfied: pyparsing>=2.1.0 in /home/pi/.local/lib/python3.9/site-packages (from cliff>=2.10->gnocchiclient->python-chi<0.16.0,>=0.15.4->python-chi-edge) (3.0.9)\n",
      "Requirement already satisfied: cmd2>=1.0.0 in /home/pi/.local/lib/python3.9/site-packages (from cliff>=2.10->gnocchiclient->python-chi<0.16.0,>=0.15.4->python-chi-edge) (2.4.1)\n",
      "Requirement already satisfied: PrettyTable>=0.7.2 in /home/pi/.local/lib/python3.9/site-packages (from cliff>=2.10->gnocchiclient->python-chi<0.16.0,>=0.15.4->python-chi-edge) (3.3.0)\n",
      "Requirement already satisfied: pyperclip>=1.6 in /home/pi/.local/lib/python3.9/site-packages (from cmd2>=1.0.0->cliff>=2.10->gnocchiclient->python-chi<0.16.0,>=0.15.4->python-chi-edge) (1.8.2)\n",
      "Requirement already satisfied: wcwidth>=0.1.7 in /home/pi/.local/lib/python3.9/site-packages (from cmd2>=1.0.0->cliff>=2.10->gnocchiclient->python-chi<0.16.0,>=0.15.4->python-chi-edge) (0.2.5)\n",
      "Requirement already satisfied: attrs>=16.3.0 in /home/pi/.local/lib/python3.9/site-packages (from cmd2>=1.0.0->cliff>=2.10->gnocchiclient->python-chi<0.16.0,>=0.15.4->python-chi-edge) (21.4.0)\n",
      "Requirement already satisfied: wrapt>=1.7.0 in /usr/lib/python3/dist-packages (from debtcollector->gnocchiclient->python-chi<0.16.0,>=0.15.4->python-chi-edge) (1.12.1)\n",
      "Requirement already satisfied: requestsexceptions>=1.2.0 in /home/pi/.local/lib/python3.9/site-packages (from openstacksdk->python-chi<0.16.0,>=0.15.4->python-chi-edge) (1.4.0)\n",
      "Requirement already satisfied: appdirs>=1.3.0 in /home/pi/.local/lib/python3.9/site-packages (from openstacksdk->python-chi<0.16.0,>=0.15.4->python-chi-edge) (1.4.4)\n",
      "Requirement already satisfied: munch>=2.1.0 in /home/pi/.local/lib/python3.9/site-packages (from openstacksdk->python-chi<0.16.0,>=0.15.4->python-chi-edge) (2.5.0)\n",
      "Requirement already satisfied: jmespath>=0.9.0 in /home/pi/.local/lib/python3.9/site-packages (from openstacksdk->python-chi<0.16.0,>=0.15.4->python-chi-edge) (1.0.1)\n",
      "Requirement already satisfied: dogpile.cache>=0.6.5 in /home/pi/.local/lib/python3.9/site-packages (from openstacksdk->python-chi<0.16.0,>=0.15.4->python-chi-edge) (1.1.7)\n",
      "Requirement already satisfied: decorator>=4.4.1 in /home/pi/.local/lib/python3.9/site-packages (from openstacksdk->python-chi<0.16.0,>=0.15.4->python-chi-edge) (5.1.1)\n",
      "Requirement already satisfied: netifaces>=0.10.4 in /home/pi/.local/lib/python3.9/site-packages (from openstacksdk->python-chi<0.16.0,>=0.15.4->python-chi-edge) (0.11.0)\n"
     ]
    },
    {
     "name": "stdout",
     "output_type": "stream",
     "text": [
      "Requirement already satisfied: jsonpatch!=1.20,>=1.16 in /home/pi/.local/lib/python3.9/site-packages (from openstacksdk->python-chi<0.16.0,>=0.15.4->python-chi-edge) (1.32)\n",
      "Requirement already satisfied: jsonpointer>=1.9 in /home/pi/.local/lib/python3.9/site-packages (from jsonpatch!=1.20,>=1.16->openstacksdk->python-chi<0.16.0,>=0.15.4->python-chi-edge) (2.3)\n",
      "Requirement already satisfied: oslo.log>=3.36.0 in /home/pi/.local/lib/python3.9/site-packages (from python-blazarclient->python-chi<0.16.0,>=0.15.4->python-chi-edge) (5.0.0)\n",
      "Requirement already satisfied: oslo.i18n>=3.15.3 in /home/pi/.local/lib/python3.9/site-packages (from python-blazarclient->python-chi<0.16.0,>=0.15.4->python-chi-edge) (5.1.0)\n",
      "Requirement already satisfied: Babel!=2.4.0,>=2.3.4 in /home/pi/.local/lib/python3.9/site-packages (from python-blazarclient->python-chi<0.16.0,>=0.15.4->python-chi-edge) (2.10.3)\n",
      "Requirement already satisfied: oslo.utils>=3.33.0 in /home/pi/.local/lib/python3.9/site-packages (from python-blazarclient->python-chi<0.16.0,>=0.15.4->python-chi-edge) (6.0.0)\n",
      "Requirement already satisfied: osc-lib>=1.3.0 in /home/pi/.local/lib/python3.9/site-packages (from python-blazarclient->python-chi<0.16.0,>=0.15.4->python-chi-edge) (2.6.0)\n",
      "Requirement already satisfied: pytz>=2015.7 in /home/pi/.local/lib/python3.9/site-packages (from Babel!=2.4.0,>=2.3.4->python-blazarclient->python-chi<0.16.0,>=0.15.4->python-chi-edge) (2022.1)\n",
      "Requirement already satisfied: simplejson>=3.5.1 in /usr/lib/python3/dist-packages (from osc-lib>=1.3.0->python-blazarclient->python-chi<0.16.0,>=0.15.4->python-chi-edge) (3.17.2)\n",
      "Requirement already satisfied: oslo.serialization>=2.25.0 in /home/pi/.local/lib/python3.9/site-packages (from oslo.log>=3.36.0->python-blazarclient->python-chi<0.16.0,>=0.15.4->python-chi-edge) (4.3.0)\n",
      "Requirement already satisfied: pyinotify>=0.9.6 in /usr/lib/python3/dist-packages (from oslo.log>=3.36.0->python-blazarclient->python-chi<0.16.0,>=0.15.4->python-chi-edge) (0.9.6)\n",
      "Requirement already satisfied: oslo.context>=2.21.0 in /home/pi/.local/lib/python3.9/site-packages (from oslo.log>=3.36.0->python-blazarclient->python-chi<0.16.0,>=0.15.4->python-chi-edge) (4.1.0)\n",
      "Requirement already satisfied: oslo.config>=5.2.0 in /home/pi/.local/lib/python3.9/site-packages (from oslo.log>=3.36.0->python-blazarclient->python-chi<0.16.0,>=0.15.4->python-chi-edge) (8.8.0)\n",
      "Requirement already satisfied: netaddr>=0.7.18 in /home/pi/.local/lib/python3.9/site-packages (from oslo.config>=5.2.0->oslo.log>=3.36.0->python-blazarclient->python-chi<0.16.0,>=0.15.4->python-chi-edge) (0.8.0)\n",
      "Requirement already satisfied: rfc3986>=1.2.0 in /home/pi/.local/lib/python3.9/site-packages (from oslo.config>=5.2.0->oslo.log>=3.36.0->python-blazarclient->python-chi<0.16.0,>=0.15.4->python-chi-edge) (2.0.0)\n",
      "Requirement already satisfied: msgpack>=0.5.2 in /home/pi/.local/lib/python3.9/site-packages (from oslo.serialization>=2.25.0->oslo.log>=3.36.0->python-blazarclient->python-chi<0.16.0,>=0.15.4->python-chi-edge) (1.0.4)\n",
      "Requirement already satisfied: packaging>=20.4 in /home/pi/.local/lib/python3.9/site-packages (from oslo.utils>=3.33.0->python-blazarclient->python-chi<0.16.0,>=0.15.4->python-chi-edge) (21.3)\n",
      "Requirement already satisfied: pyOpenSSL>=17.1.0 in /usr/lib/python3/dist-packages (from python-glanceclient->python-chi<0.16.0,>=0.15.4->python-chi-edge) (20.0.1)\n",
      "Requirement already satisfied: warlock<2,>=1.2.0 in /home/pi/.local/lib/python3.9/site-packages (from python-glanceclient->python-chi<0.16.0,>=0.15.4->python-chi-edge) (1.3.3)\n",
      "Requirement already satisfied: jsonschema<4,>=0.7 in /home/pi/.local/lib/python3.9/site-packages (from warlock<2,>=1.2.0->python-glanceclient->python-chi<0.16.0,>=0.15.4->python-chi-edge) (3.2.0)\n",
      "Requirement already satisfied: setuptools in /usr/lib/python3/dist-packages (from jsonschema<4,>=0.7->warlock<2,>=1.2.0->python-glanceclient->python-chi<0.16.0,>=0.15.4->python-chi-edge) (52.0.0)\n",
      "Requirement already satisfied: pyrsistent>=0.14.0 in /home/pi/.local/lib/python3.9/site-packages (from jsonschema<4,>=0.7->warlock<2,>=1.2.0->python-glanceclient->python-chi<0.16.0,>=0.15.4->python-chi-edge) (0.18.1)\n",
      "Requirement already satisfied: os-client-config>=1.28.0 in /home/pi/.local/lib/python3.9/site-packages (from python-neutronclient->python-chi<0.16.0,>=0.15.4->python-chi-edge) (2.1.0)\n",
      "Requirement already satisfied: python-keystoneclient>=3.8.0 in /home/pi/.local/lib/python3.9/site-packages (from python-neutronclient->python-chi<0.16.0,>=0.15.4->python-chi-edge) (4.5.0)\n",
      "Requirement already satisfied: docker>=2.4.2 in /home/pi/.local/lib/python3.9/site-packages (from python-zunclient->python-chi<0.16.0,>=0.15.4->python-chi-edge) (5.0.3)\n",
      "Requirement already satisfied: websocket-client>=0.44.0 in /home/pi/.local/lib/python3.9/site-packages (from python-zunclient->python-chi<0.16.0,>=0.15.4->python-chi-edge) (1.3.3)\n",
      "Requirement already satisfied: python-openstackclient>=3.12.0 in /home/pi/.local/lib/python3.9/site-packages (from python-zunclient->python-chi<0.16.0,>=0.15.4->python-chi-edge) (5.8.0)\n",
      "Requirement already satisfied: python-cinderclient>=3.3.0 in /home/pi/.local/lib/python3.9/site-packages (from python-openstackclient>=3.12.0->python-zunclient->python-chi<0.16.0,>=0.15.4->python-chi-edge) (8.3.0)\n"
     ]
    }
   ],
   "source": [
    "#!pip install python-chi-edge\n"
   ]
  },
  {
   "cell_type": "code",
   "execution_count": 10,
   "id": "d5feb487",
   "metadata": {
    "scrolled": true
   },
   "outputs": [
    {
     "name": "stdout",
     "output_type": "stream",
     "text": [
      "Now using CHI@Edge:\n",
      "URL: https://chi.edge.chameleoncloud.org\n",
      "Location: Distributed\n",
      "Support contact: https://groups.google.com/g/chameleon-edge-users\n"
     ]
    }
   ],
   "source": [
    "import chi\n",
    "# Before we go any further, we need to select which Chameleon site we will be using.\n",
    "chi.use_site(\"CHI@Edge\")\n",
    "chi.set(\"project_name\", \"CHI-220971\")\n"
   ]
  },
  {
   "cell_type": "code",
   "execution_count": 11,
   "id": "7a0e8f48",
   "metadata": {},
   "outputs": [],
   "source": [
    "from chi import container\n",
    "from chi import lease"
   ]
  },
  {
   "cell_type": "code",
   "execution_count": 3,
   "id": "e4cfd1dc",
   "metadata": {},
   "outputs": [
    {
     "name": "stdout",
     "output_type": "stream",
     "text": [
      "              ╷                  ╷                 ╷        ╷                   \n",
      " \u001b[1;32m \u001b[0m\u001b[1;32mName       \u001b[0m\u001b[1;32m \u001b[0m│\u001b[1;32m \u001b[0m\u001b[1;32mUUID            \u001b[0m\u001b[1;32m \u001b[0m│\u001b[1;32m \u001b[0m\u001b[1;32mRegistered at  \u001b[0m\u001b[1;32m \u001b[0m│\u001b[1;32m \u001b[0m\u001b[1;32mHealth\u001b[0m\u001b[1;32m \u001b[0m│\u001b[1;32m \u001b[0m\u001b[1;32mLast seen       \u001b[0m\u001b[1;32m \u001b[0m \n",
      "╺━━━━━━━━━━━━━┿━━━━━━━━━━━━━━━━━━┿━━━━━━━━━━━━━━━━━┿━━━━━━━━┿━━━━━━━━━━━━━━━━━━╸\n",
      "  rpi-llc-3   │ f0d18a25-4933-4… │ 2022-04-04T15:… │ 4/4    │ 2022-04-15T19:5…  \n",
      "  rpi-llc-4   │ 1f704991-f457-4… │ 2022-04-04T18:… │ 2/4    │                   \n",
      "  rpi-llc-2   │ 32a7e232-271c-4… │ 2022-07-06T14:… │ 4/4    │ 2022-07-07T12:5…  \n",
      "  chiaracer-1 │ 452aa267-99e1-4… │ 2022-07-08T10:… │ 4/4    │ 2022-07-08T10:5…  \n",
      "              ╵                  ╵                 ╵        ╵                   \n",
      "╭─ \u001b[1;32mchiaracer-1\u001b[0m ── 452aa267-99e1-46bf-af89-7c3e71a03478 ────────────────────────╮\n",
      "│                                 ╷                                            │\n",
      "│  \u001b[1;32m \u001b[0m\u001b[1;32mProperty                     \u001b[0m\u001b[1;32m \u001b[0m│\u001b[1;32m \u001b[0m\u001b[1;32mValue                                   \u001b[0m\u001b[1;32m \u001b[0m  │\n",
      "│ ╺━━━━━━━━━━━━━━━━━━━━━━━━━━━━━━━┿━━━━━━━━━━━━━━━━━━━━━━━━━━━━━━━━━━━━━━━━━━╸ │\n",
      "│   application_credential_id     │ 7d2629b029824ecd821a7c38dfe523ac           │\n",
      "│   application_credential_secret │ ************                               │\n",
      "│   blazar_device_driver          │ k8s                                        │\n",
      "│   channels                      │ user:                                      │\n",
      "│                                 │   channel_type: wireguard                  │\n",
      "│                                 │   public_key:                              │\n",
      "│                                 │ pTKvBYo7Jl9mZOl39H9PgvtFYKLhztJhoGygMUh…   │\n",
      "│   contact_email                 │ rianders@docs.rutgers.edu                  │\n",
      "│   machine_name                  │ raspberrypi4-64                            │\n",
      "│                                 ╵                                            │\n",
      "│ Health details                                                               │\n",
      "│                ╷              ╷              ╷              ╷                │\n",
      "│  \u001b[34m \u001b[0m\u001b[34m            \u001b[0m\u001b[34m \u001b[0m│\u001b[34m \u001b[0m\u001b[34mbalena      \u001b[0m\u001b[34m \u001b[0m│\u001b[34m \u001b[0m\u001b[34mblazar.devi…\u001b[0m\u001b[34m \u001b[0m│\u001b[34m \u001b[0m\u001b[34mk8s         \u001b[0m\u001b[34m \u001b[0m│\u001b[34m \u001b[0m\u001b[34mtunelo      \u001b[0m\u001b[34m \u001b[0m  │\n",
      "│ ╺━━━━━━━━━━━━━━┿━━━━━━━━━━━━━━┿━━━━━━━━━━━━━━┿━━━━━━━━━━━━━━┿━━━━━━━━━━━━━━╸ │\n",
      "│   state        │ STEADY       │ STEADY       │ STEADY       │ STEADY         │\n",
      "│   state_detai… │ device_api_… │ blazar_reso… │ num_labels:  │ channels:      │\n",
      "│                │ AdArgY26qtV… │ 45a18225-4f… │ 2            │   user:        │\n",
      "│                │ device_id:   │ resource_cr… │              │     endpoin…   │\n",
      "│                │ 7393718      │ '2022-07-08  │              │ null           │\n",
      "│                │ fleet_id:    │ 15:46:29'    │              │     ip:        │\n",
      "│                │ 1918419      │              │              │ 10.0.3.37      │\n",
      "│                │ last_seen:   │              │              │     peers:     │\n",
      "│                │ '2022-07-08… │              │              │     -          │\n",
      "│                │              │              │              │ endpoint:      │\n",
      "│                │              │              │              │ 129.114.34.…   │\n",
      "│                │              │              │              │       ip:      │\n",
      "│                │              │              │              │ 10.0.3.2       │\n",
      "│                │              │              │              │       publi…   │\n",
      "│                │              │              │              │ zgg29Urn5Ww…   │\n",
      "│                │              │              │              │     uuid:      │\n",
      "│                │              │              │              │ 7f52cf4b-f0…   │\n",
      "│                ╵              ╵              ╵              ╵                │\n",
      "╰──────────────────────────────────────────────────────────────────────────────╯\n"
     ]
    }
   ],
   "source": [
    "#Find the chia racer image and device\n",
    "!chi-edge device list\n",
    "!chi-edge device show  chiaracer-1"
   ]
  },
  {
   "cell_type": "markdown",
   "id": "b6643b92",
   "metadata": {},
   "source": [
    "## Get a lease for a chiaracer in the name of a chiaracer"
   ]
  },
  {
   "cell_type": "code",
   "execution_count": 12,
   "id": "b682e3da",
   "metadata": {},
   "outputs": [
    {
     "ename": "TypeError",
     "evalue": "add_device_reservation() got an unexpected keyword argument 'machine_name'",
     "output_type": "error",
     "traceback": [
      "\u001b[0;31m---------------------------------------------------------------------------\u001b[0m",
      "\u001b[0;31mTypeError\u001b[0m                                 Traceback (most recent call last)",
      "Input \u001b[0;32mIn [12]\u001b[0m, in \u001b[0;36m<cell line: 4>\u001b[0;34m()\u001b[0m\n\u001b[1;32m      2\u001b[0m start, end \u001b[38;5;241m=\u001b[39m lease\u001b[38;5;241m.\u001b[39mlease_duration(days\u001b[38;5;241m=\u001b[39m\u001b[38;5;241m2\u001b[39m)\n\u001b[1;32m      3\u001b[0m reservations \u001b[38;5;241m=\u001b[39m []\n\u001b[0;32m----> 4\u001b[0m \u001b[43mlease\u001b[49m\u001b[38;5;241;43m.\u001b[39;49m\u001b[43madd_device_reservation\u001b[49m\u001b[43m(\u001b[49m\u001b[43mreservations\u001b[49m\u001b[43m,\u001b[49m\u001b[43m \u001b[49m\u001b[43mcount\u001b[49m\u001b[38;5;241;43m=\u001b[39;49m\u001b[38;5;241;43m1\u001b[39;49m\u001b[43m,\u001b[49m\u001b[43m \u001b[49m\u001b[43mmachine_name\u001b[49m\u001b[38;5;241;43m=\u001b[39;49m\u001b[43mmachine_name\u001b[49m\u001b[43m)\u001b[49m\n\u001b[1;32m      5\u001b[0m container_lease \u001b[38;5;241m=\u001b[39m lease\u001b[38;5;241m.\u001b[39mcreate_lease(\u001b[38;5;124mf\u001b[39m\u001b[38;5;124m\"\u001b[39m\u001b[38;5;132;01m{\u001b[39;00mmachine_name\u001b[38;5;132;01m}\u001b[39;00m\u001b[38;5;124m-\u001b[39m\u001b[38;5;132;01m{\u001b[39;00mstart\u001b[38;5;132;01m}\u001b[39;00m\u001b[38;5;124m\"\u001b[39m, reservations)\n\u001b[1;32m      6\u001b[0m lease_id \u001b[38;5;241m=\u001b[39m container_lease[\u001b[38;5;124m\"\u001b[39m\u001b[38;5;124mid\u001b[39m\u001b[38;5;124m\"\u001b[39m]\n",
      "\u001b[0;31mTypeError\u001b[0m: add_device_reservation() got an unexpected keyword argument 'machine_name'"
     ]
    }
   ],
   "source": [
    "machine_name = \"raspberrypi4-64\"\n",
    "start, end = lease.lease_duration(days=2)\n",
    "reservations = []\n",
    "lease.add_device_reservation(reservations, count=1, machine_name=machine_name)\n",
    "container_lease = lease.create_lease(f\"{machine_name}-{start}\", reservations)\n",
    "lease_id = container_lease[\"id\"]\n",
    "\n",
    "print(\"Waiting for lease to start ...\")\n",
    "lease.wait_for_active(lease_id)\n",
    "print(\"Done!\")"
   ]
  },
  {
   "cell_type": "code",
   "execution_count": 5,
   "id": "b35d94cc",
   "metadata": {},
   "outputs": [
    {
     "ename": "TypeError",
     "evalue": "add_device_reservation() got an unexpected keyword argument 'machine_name'",
     "output_type": "error",
     "traceback": [
      "\u001b[0;31m---------------------------------------------------------------------------\u001b[0m",
      "\u001b[0;31mTypeError\u001b[0m                                 Traceback (most recent call last)",
      "Input \u001b[0;32mIn [5]\u001b[0m, in \u001b[0;36m<cell line: 5>\u001b[0;34m()\u001b[0m\n\u001b[1;32m      3\u001b[0m start, end \u001b[38;5;241m=\u001b[39m lease\u001b[38;5;241m.\u001b[39mlease_duration(days\u001b[38;5;241m=\u001b[39m\u001b[38;5;241m2\u001b[39m)\n\u001b[1;32m      4\u001b[0m reservations \u001b[38;5;241m=\u001b[39m []\n\u001b[0;32m----> 5\u001b[0m \u001b[43mlease\u001b[49m\u001b[38;5;241;43m.\u001b[39;49m\u001b[43madd_device_reservation\u001b[49m\u001b[43m(\u001b[49m\u001b[43mreservations\u001b[49m\u001b[43m,\u001b[49m\u001b[43m \u001b[49m\u001b[43mcount\u001b[49m\u001b[38;5;241;43m=\u001b[39;49m\u001b[38;5;241;43m1\u001b[39;49m\u001b[43m,\u001b[49m\u001b[43m \u001b[49m\u001b[43mmachine_name\u001b[49m\u001b[38;5;241;43m=\u001b[39;49m\u001b[43mmachine_name\u001b[49m\u001b[43m)\u001b[49m\n\u001b[1;32m      6\u001b[0m container_lease \u001b[38;5;241m=\u001b[39m lease\u001b[38;5;241m.\u001b[39mcreate_lease(\u001b[38;5;124mf\u001b[39m\u001b[38;5;124m\"\u001b[39m\u001b[38;5;132;01m{\u001b[39;00mmachine_name\u001b[38;5;132;01m}\u001b[39;00m\u001b[38;5;124m-\u001b[39m\u001b[38;5;132;01m{\u001b[39;00mstart\u001b[38;5;132;01m}\u001b[39;00m\u001b[38;5;124m\"\u001b[39m, reservations)\n\u001b[1;32m      7\u001b[0m lease_id \u001b[38;5;241m=\u001b[39m container_lease[\u001b[38;5;124m\"\u001b[39m\u001b[38;5;124mid\u001b[39m\u001b[38;5;124m\"\u001b[39m]\n",
      "\u001b[0;31mTypeError\u001b[0m: add_device_reservation() got an unexpected keyword argument 'machine_name'"
     ]
    }
   ],
   "source": [
    "machine_name = \"raspberrypi4-64\"\n",
    "device_name = \"\"\n",
    "start, end = lease.lease_duration(days=2)\n",
    "reservations = []\n",
    "lease.add_device_reservation(reservations, count=1, machine_name=machine_name)\n",
    "container_lease = lease.create_lease(f\"{machine_name}-{start}\", reservations)\n",
    "lease_id = container_lease[\"id\"]\n",
    "\n",
    "print(\"Waiting for lease to start ...\")\n",
    "lease.wait_for_active(lease_id)\n",
    "print(\"Done!\")"
   ]
  },
  {
   "cell_type": "code",
   "execution_count": null,
   "id": "427c4ab1",
   "metadata": {},
   "outputs": [],
   "source": [
    "print(\"Requesting container ...\")\n",
    "\n",
    "my_container = container.create_container(\n",
    "    \"webserver-container\", \n",
    "    image=\"arm64v8/python:latest\",\n",
    "    command=[\"python\", \"-m\", \"http.server\", \"8000\"],\n",
    "    workdir=\"/var/www/html\",\n",
    "    exposed_ports=[8000],\n",
    "    reservation_id=lease.get_device_reservation(lease_id),\n",
    "    platform_version=2,\n",
    ")\n",
    "\n",
    "print(\"Done!\")"
   ]
  }
 ],
 "metadata": {
  "kernelspec": {
   "display_name": "Python 3 (ipykernel)",
   "language": "python",
   "name": "python3"
  },
  "language_info": {
   "codemirror_mode": {
    "name": "ipython",
    "version": 3
   },
   "file_extension": ".py",
   "mimetype": "text/x-python",
   "name": "python",
   "nbconvert_exporter": "python",
   "pygments_lexer": "ipython3",
   "version": "3.9.2"
  }
 },
 "nbformat": 4,
 "nbformat_minor": 5
}
