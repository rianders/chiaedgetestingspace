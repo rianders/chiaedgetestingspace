{
 "cells": [
  {
   "cell_type": "code",
   "execution_count": null,
   "id": "9f6446e4",
   "metadata": {},
   "outputs": [],
   "source": [
    "# List all devices\n",
    "!pip install python-chi-edge\n",
    "# run in terminal\n",
    "#!source app-cred-pidesktop-openrc.sh\n",
    "#!chi-edge device list"
   ]
  },
  {
   "cell_type": "code",
   "execution_count": null,
   "id": "8968bad6",
   "metadata": {},
   "outputs": [],
   "source": [
    "!chi-edge device list"
   ]
  },
  {
   "cell_type": "code",
   "execution_count": null,
   "id": "6f4fd5b3",
   "metadata": {},
   "outputs": [],
   "source": [
    "!chi-edge device register \\\n",
    "  --contact-email rianders@docs.rutgers.edu --machine-name raspberrypi4-64 \\\n",
    "  --application-credential-id 7d2629b029824ecd821a7c38dfe523ac --application-credential-secret 728UdS#x0gqi \\\n",
    "  rpi-llc-2"
   ]
  },
  {
   "cell_type": "code",
   "execution_count": null,
   "id": "b9f28044",
   "metadata": {},
   "outputs": [],
   "source": [
    "# View details for a single device\n",
    "!chi-edge device show rpi-llc-2"
   ]
  },
  {
   "cell_type": "code",
   "execution_count": 4,
   "id": "db921da9",
   "metadata": {},
   "outputs": [
    {
     "name": "stdout",
     "output_type": "stream",
     "text": [
      "/home/pi/Documents/config.json\n",
      "config.json\n",
      "Successfully patched image\n"
     ]
    }
   ],
   "source": [
    "# unzip the file.\n",
    "!chi-edge device bake --image cluster-raspberrypi4-64-2.91.1-v12.11.32.img 32a7e232-271c-4cda-b1c0-2c4115c68f8f"
   ]
  },
  {
   "cell_type": "code",
   "execution_count": null,
   "id": "bf865aac",
   "metadata": {},
   "outputs": [],
   "source": [
    "# Fix a credential error\n",
    "!chi-edge  device set --application-credential-id 7d2629b029824ecd821a7c38dfe523ac 32a7e232-271c-4cda-b1c0-2c4115c68f8f"
   ]
  },
  {
   "cell_type": "code",
   "execution_count": null,
   "id": "3fec6c43",
   "metadata": {},
   "outputs": [],
   "source": []
  }
 ],
 "metadata": {
  "kernelspec": {
   "display_name": "Python 3 (ipykernel)",
   "language": "python",
   "name": "python3"
  },
  "language_info": {
   "codemirror_mode": {
    "name": "ipython",
    "version": 3
   },
   "file_extension": ".py",
   "mimetype": "text/x-python",
   "name": "python",
   "nbconvert_exporter": "python",
   "pygments_lexer": "ipython3",
   "version": "3.9.2"
  }
 },
 "nbformat": 4,
 "nbformat_minor": 5
}
