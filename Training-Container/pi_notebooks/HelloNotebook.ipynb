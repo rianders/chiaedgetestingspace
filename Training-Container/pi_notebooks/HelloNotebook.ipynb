{
 "cells": [
  {
   "cell_type": "code",
   "execution_count": 11,
   "id": "6764be41",
   "metadata": {
    "scrolled": true
   },
   "outputs": [
    {
     "name": "stdout",
     "output_type": "stream",
     "text": [
      "            ╷                  ╷                   ╷        ╷                   \r\n",
      " \u001b[1;32m \u001b[0m\u001b[1;32mName     \u001b[0m\u001b[1;32m \u001b[0m│\u001b[1;32m \u001b[0m\u001b[1;32mUUID            \u001b[0m\u001b[1;32m \u001b[0m│\u001b[1;32m \u001b[0m\u001b[1;32mRegistered at    \u001b[0m\u001b[1;32m \u001b[0m│\u001b[1;32m \u001b[0m\u001b[1;32mHealth\u001b[0m\u001b[1;32m \u001b[0m│\u001b[1;32m \u001b[0m\u001b[1;32mLast seen       \u001b[0m\u001b[1;32m \u001b[0m \r\n",
      "╺━━━━━━━━━━━┿━━━━━━━━━━━━━━━━━━┿━━━━━━━━━━━━━━━━━━━┿━━━━━━━━┿━━━━━━━━━━━━━━━━━━╸\r\n",
      "  rpi-llc-3 │ f0d18a25-4933-4… │ 2022-04-04T15:37… │ 4/4    │ 2022-04-15T19:5…  \r\n",
      "  rpi-llc-4 │ 1f704991-f457-4… │ 2022-04-04T18:56… │ 2/4    │                   \r\n",
      "  rpi-llc-2 │ 32a7e232-271c-4… │ 2022-07-06T14:39… │ 2/4    │ 2022-07-06T16:3…  \r\n",
      "            ╵                  ╵                   ╵        ╵                   \r\n"
     ]
    }
   ],
   "source": [
    "# List all devices\n",
    "!chi-edge device list"
   ]
  },
  {
   "cell_type": "code",
   "execution_count": 10,
   "id": "73efddb4",
   "metadata": {},
   "outputs": [],
   "source": [
    "from chi import container\n",
    "#container.upload(container_uuid, local_path, remote_path)"
   ]
  },
  {
   "cell_type": "code",
   "execution_count": 11,
   "id": "d890607b",
   "metadata": {},
   "outputs": [
    {
     "name": "stdout",
     "output_type": "stream",
     "text": [
      "Python 3.9.2\r\n"
     ]
    }
   ],
   "source": [
    "!python --version"
   ]
  },
  {
   "cell_type": "code",
   "execution_count": 12,
   "id": "0188b9b9",
   "metadata": {},
   "outputs": [],
   "source": [
    "!python3 -mvenv .venv"
   ]
  },
  {
   "cell_type": "code",
   "execution_count": 13,
   "id": "802a6e39",
   "metadata": {},
   "outputs": [],
   "source": [
    "!source .venv/bin/activate"
   ]
  },
  {
   "cell_type": "code",
   "execution_count": 14,
   "id": "151acab5",
   "metadata": {
    "scrolled": false
   },
   "outputs": [
    {
     "name": "stdout",
     "output_type": "stream",
     "text": [
      "Looking in indexes: https://pypi.org/simple, https://www.piwheels.org/simple\n",
      "Requirement already satisfied: python-chi-edge in /home/pi/.local/lib/python3.9/site-packages (0.2.2)\n",
      "Requirement already satisfied: rich<12.0.0,>=11.2.0 in /home/pi/.local/lib/python3.9/site-packages (from python-chi-edge) (11.2.0)\n",
      "Requirement already satisfied: click<9.0.0,>=8.0.1 in /home/pi/.local/lib/python3.9/site-packages (from python-chi-edge) (8.1.3)\n",
      "Requirement already satisfied: PyYAML<7.0,>=6.0 in /home/pi/.local/lib/python3.9/site-packages (from python-chi-edge) (6.0)\n",
      "Requirement already satisfied: python-chi<0.16.0,>=0.15.4 in /home/pi/.local/lib/python3.9/site-packages (from python-chi-edge) (0.15.7)\n",
      "Requirement already satisfied: keystoneauth1<5.0.0,>=4.4.0 in /home/pi/.local/lib/python3.9/site-packages (from python-chi-edge) (4.6.0)\n",
      "Requirement already satisfied: six>=1.10.0 in /usr/lib/python3/dist-packages (from keystoneauth1<5.0.0,>=4.4.0->python-chi-edge) (1.16.0)\n",
      "Requirement already satisfied: stevedore>=1.20.0 in /home/pi/.local/lib/python3.9/site-packages (from keystoneauth1<5.0.0,>=4.4.0->python-chi-edge) (3.5.0)\n",
      "Requirement already satisfied: os-service-types>=1.2.0 in /home/pi/.local/lib/python3.9/site-packages (from keystoneauth1<5.0.0,>=4.4.0->python-chi-edge) (1.7.0)\n",
      "Requirement already satisfied: iso8601>=0.1.11 in /home/pi/.local/lib/python3.9/site-packages (from keystoneauth1<5.0.0,>=4.4.0->python-chi-edge) (1.0.2)\n",
      "Requirement already satisfied: pbr!=2.1.0,>=2.0.0 in /home/pi/.local/lib/python3.9/site-packages (from keystoneauth1<5.0.0,>=4.4.0->python-chi-edge) (5.9.0)\n",
      "Requirement already satisfied: requests>=2.14.2 in /usr/lib/python3/dist-packages (from keystoneauth1<5.0.0,>=4.4.0->python-chi-edge) (2.25.1)\n",
      "Requirement already satisfied: fabric in /home/pi/.local/lib/python3.9/site-packages (from python-chi<0.16.0,>=0.15.4->python-chi-edge) (2.7.0)\n",
      "Requirement already satisfied: python-neutronclient in /home/pi/.local/lib/python3.9/site-packages (from python-chi<0.16.0,>=0.15.4->python-chi-edge) (7.8.0)\n",
      "Requirement already satisfied: python-blazarclient in /home/pi/.local/lib/python3.9/site-packages (from python-chi<0.16.0,>=0.15.4->python-chi-edge) (3.4.0)\n",
      "Requirement already satisfied: python-glanceclient in /home/pi/.local/lib/python3.9/site-packages (from python-chi<0.16.0,>=0.15.4->python-chi-edge) (4.0.0)\n",
      "Requirement already satisfied: python-zunclient in /home/pi/.local/lib/python3.9/site-packages (from python-chi<0.16.0,>=0.15.4->python-chi-edge) (4.5.0)\n",
      "Requirement already satisfied: python-novaclient in /home/pi/.local/lib/python3.9/site-packages (from python-chi<0.16.0,>=0.15.4->python-chi-edge) (18.0.0)\n",
      "Requirement already satisfied: python-ironicclient in /home/pi/.local/lib/python3.9/site-packages (from python-chi<0.16.0,>=0.15.4->python-chi-edge) (4.11.0)\n",
      "Requirement already satisfied: openstacksdk in /home/pi/.local/lib/python3.9/site-packages (from python-chi<0.16.0,>=0.15.4->python-chi-edge) (0.99.0)\n",
      "Requirement already satisfied: gnocchiclient in /home/pi/.local/lib/python3.9/site-packages (from python-chi<0.16.0,>=0.15.4->python-chi-edge) (7.0.7)\n",
      "Requirement already satisfied: paramiko in /home/pi/.local/lib/python3.9/site-packages (from python-chi<0.16.0,>=0.15.4->python-chi-edge) (2.11.0)\n",
      "Requirement already satisfied: commonmark<0.10.0,>=0.9.0 in /home/pi/.local/lib/python3.9/site-packages (from rich<12.0.0,>=11.2.0->python-chi-edge) (0.9.1)\n",
      "Requirement already satisfied: colorama<0.5.0,>=0.4.0 in /usr/lib/python3/dist-packages (from rich<12.0.0,>=11.2.0->python-chi-edge) (0.4.4)\n",
      "Requirement already satisfied: pygments<3.0.0,>=2.6.0 in /usr/lib/python3/dist-packages (from rich<12.0.0,>=11.2.0->python-chi-edge) (2.7.1)\n",
      "Requirement already satisfied: invoke<2.0,>=1.3 in /home/pi/.local/lib/python3.9/site-packages (from fabric->python-chi<0.16.0,>=0.15.4->python-chi-edge) (1.7.1)\n",
      "Requirement already satisfied: pathlib2 in /home/pi/.local/lib/python3.9/site-packages (from fabric->python-chi<0.16.0,>=0.15.4->python-chi-edge) (2.3.7.post1)\n",
      "Requirement already satisfied: cryptography>=2.5 in /usr/lib/python3/dist-packages (from paramiko->python-chi<0.16.0,>=0.15.4->python-chi-edge) (3.3.2)\n",
      "Requirement already satisfied: bcrypt>=3.1.3 in /home/pi/.local/lib/python3.9/site-packages (from paramiko->python-chi<0.16.0,>=0.15.4->python-chi-edge) (3.2.2)\n",
      "Requirement already satisfied: pynacl>=1.0.1 in /home/pi/.local/lib/python3.9/site-packages (from paramiko->python-chi<0.16.0,>=0.15.4->python-chi-edge) (1.5.0)\n",
      "Requirement already satisfied: cffi>=1.1 in /home/pi/.local/lib/python3.9/site-packages (from bcrypt>=3.1.3->paramiko->python-chi<0.16.0,>=0.15.4->python-chi-edge) (1.15.1)\n",
      "Requirement already satisfied: pycparser in /home/pi/.local/lib/python3.9/site-packages (from cffi>=1.1->bcrypt>=3.1.3->paramiko->python-chi<0.16.0,>=0.15.4->python-chi-edge) (2.21)\n",
      "Requirement already satisfied: futurist in /home/pi/.local/lib/python3.9/site-packages (from gnocchiclient->python-chi<0.16.0,>=0.15.4->python-chi-edge) (2.4.1)\n",
      "Requirement already satisfied: python-dateutil in /home/pi/.local/lib/python3.9/site-packages (from gnocchiclient->python-chi<0.16.0,>=0.15.4->python-chi-edge) (2.8.2)\n",
      "Requirement already satisfied: cliff>=2.10 in /home/pi/.local/lib/python3.9/site-packages (from gnocchiclient->python-chi<0.16.0,>=0.15.4->python-chi-edge) (3.10.1)\n",
      "Requirement already satisfied: ujson in /home/pi/.local/lib/python3.9/site-packages (from gnocchiclient->python-chi<0.16.0,>=0.15.4->python-chi-edge) (5.4.0)\n",
      "Requirement already satisfied: monotonic in /home/pi/.local/lib/python3.9/site-packages (from gnocchiclient->python-chi<0.16.0,>=0.15.4->python-chi-edge) (1.6)\n",
      "Requirement already satisfied: debtcollector in /home/pi/.local/lib/python3.9/site-packages (from gnocchiclient->python-chi<0.16.0,>=0.15.4->python-chi-edge) (2.5.0)\n",
      "Requirement already satisfied: pyparsing>=2.1.0 in /home/pi/.local/lib/python3.9/site-packages (from cliff>=2.10->gnocchiclient->python-chi<0.16.0,>=0.15.4->python-chi-edge) (3.0.9)\n",
      "Requirement already satisfied: cmd2>=1.0.0 in /home/pi/.local/lib/python3.9/site-packages (from cliff>=2.10->gnocchiclient->python-chi<0.16.0,>=0.15.4->python-chi-edge) (2.4.1)\n",
      "Requirement already satisfied: PrettyTable>=0.7.2 in /home/pi/.local/lib/python3.9/site-packages (from cliff>=2.10->gnocchiclient->python-chi<0.16.0,>=0.15.4->python-chi-edge) (3.3.0)\n",
      "Requirement already satisfied: autopage>=0.4.0 in /home/pi/.local/lib/python3.9/site-packages (from cliff>=2.10->gnocchiclient->python-chi<0.16.0,>=0.15.4->python-chi-edge) (0.5.1)\n",
      "Requirement already satisfied: wcwidth>=0.1.7 in /home/pi/.local/lib/python3.9/site-packages (from cmd2>=1.0.0->cliff>=2.10->gnocchiclient->python-chi<0.16.0,>=0.15.4->python-chi-edge) (0.2.5)\n",
      "Requirement already satisfied: pyperclip>=1.6 in /home/pi/.local/lib/python3.9/site-packages (from cmd2>=1.0.0->cliff>=2.10->gnocchiclient->python-chi<0.16.0,>=0.15.4->python-chi-edge) (1.8.2)\n",
      "Requirement already satisfied: attrs>=16.3.0 in /home/pi/.local/lib/python3.9/site-packages (from cmd2>=1.0.0->cliff>=2.10->gnocchiclient->python-chi<0.16.0,>=0.15.4->python-chi-edge) (21.4.0)\n",
      "Requirement already satisfied: wrapt>=1.7.0 in /usr/lib/python3/dist-packages (from debtcollector->gnocchiclient->python-chi<0.16.0,>=0.15.4->python-chi-edge) (1.12.1)\n",
      "Requirement already satisfied: netifaces>=0.10.4 in /home/pi/.local/lib/python3.9/site-packages (from openstacksdk->python-chi<0.16.0,>=0.15.4->python-chi-edge) (0.11.0)\n",
      "Requirement already satisfied: appdirs>=1.3.0 in /home/pi/.local/lib/python3.9/site-packages (from openstacksdk->python-chi<0.16.0,>=0.15.4->python-chi-edge) (1.4.4)\n",
      "Requirement already satisfied: requestsexceptions>=1.2.0 in /home/pi/.local/lib/python3.9/site-packages (from openstacksdk->python-chi<0.16.0,>=0.15.4->python-chi-edge) (1.4.0)\n",
      "Requirement already satisfied: decorator>=4.4.1 in /home/pi/.local/lib/python3.9/site-packages (from openstacksdk->python-chi<0.16.0,>=0.15.4->python-chi-edge) (5.1.1)\n",
      "Requirement already satisfied: dogpile.cache>=0.6.5 in /home/pi/.local/lib/python3.9/site-packages (from openstacksdk->python-chi<0.16.0,>=0.15.4->python-chi-edge) (1.1.7)\n",
      "Requirement already satisfied: jsonpatch!=1.20,>=1.16 in /home/pi/.local/lib/python3.9/site-packages (from openstacksdk->python-chi<0.16.0,>=0.15.4->python-chi-edge) (1.32)\n",
      "Requirement already satisfied: jmespath>=0.9.0 in /home/pi/.local/lib/python3.9/site-packages (from openstacksdk->python-chi<0.16.0,>=0.15.4->python-chi-edge) (1.0.1)\n",
      "Requirement already satisfied: munch>=2.1.0 in /home/pi/.local/lib/python3.9/site-packages (from openstacksdk->python-chi<0.16.0,>=0.15.4->python-chi-edge) (2.5.0)\n"
     ]
    },
    {
     "name": "stdout",
     "output_type": "stream",
     "text": [
      "Requirement already satisfied: jsonpointer>=1.9 in /home/pi/.local/lib/python3.9/site-packages (from jsonpatch!=1.20,>=1.16->openstacksdk->python-chi<0.16.0,>=0.15.4->python-chi-edge) (2.3)\n",
      "Requirement already satisfied: oslo.utils>=3.33.0 in /home/pi/.local/lib/python3.9/site-packages (from python-blazarclient->python-chi<0.16.0,>=0.15.4->python-chi-edge) (6.0.0)\n",
      "Requirement already satisfied: oslo.i18n>=3.15.3 in /home/pi/.local/lib/python3.9/site-packages (from python-blazarclient->python-chi<0.16.0,>=0.15.4->python-chi-edge) (5.1.0)\n",
      "Requirement already satisfied: oslo.log>=3.36.0 in /home/pi/.local/lib/python3.9/site-packages (from python-blazarclient->python-chi<0.16.0,>=0.15.4->python-chi-edge) (5.0.0)\n",
      "Requirement already satisfied: osc-lib>=1.3.0 in /home/pi/.local/lib/python3.9/site-packages (from python-blazarclient->python-chi<0.16.0,>=0.15.4->python-chi-edge) (2.6.0)\n",
      "Requirement already satisfied: Babel!=2.4.0,>=2.3.4 in /home/pi/.local/lib/python3.9/site-packages (from python-blazarclient->python-chi<0.16.0,>=0.15.4->python-chi-edge) (2.10.3)\n",
      "Requirement already satisfied: pytz>=2015.7 in /home/pi/.local/lib/python3.9/site-packages (from Babel!=2.4.0,>=2.3.4->python-blazarclient->python-chi<0.16.0,>=0.15.4->python-chi-edge) (2022.1)\n",
      "Requirement already satisfied: simplejson>=3.5.1 in /usr/lib/python3/dist-packages (from osc-lib>=1.3.0->python-blazarclient->python-chi<0.16.0,>=0.15.4->python-chi-edge) (3.17.2)\n",
      "Requirement already satisfied: oslo.config>=5.2.0 in /home/pi/.local/lib/python3.9/site-packages (from oslo.log>=3.36.0->python-blazarclient->python-chi<0.16.0,>=0.15.4->python-chi-edge) (8.8.0)\n",
      "Requirement already satisfied: oslo.serialization>=2.25.0 in /home/pi/.local/lib/python3.9/site-packages (from oslo.log>=3.36.0->python-blazarclient->python-chi<0.16.0,>=0.15.4->python-chi-edge) (4.3.0)\n",
      "Requirement already satisfied: oslo.context>=2.21.0 in /home/pi/.local/lib/python3.9/site-packages (from oslo.log>=3.36.0->python-blazarclient->python-chi<0.16.0,>=0.15.4->python-chi-edge) (4.1.0)\n",
      "Requirement already satisfied: pyinotify>=0.9.6 in /usr/lib/python3/dist-packages (from oslo.log>=3.36.0->python-blazarclient->python-chi<0.16.0,>=0.15.4->python-chi-edge) (0.9.6)\n",
      "Requirement already satisfied: netaddr>=0.7.18 in /home/pi/.local/lib/python3.9/site-packages (from oslo.config>=5.2.0->oslo.log>=3.36.0->python-blazarclient->python-chi<0.16.0,>=0.15.4->python-chi-edge) (0.8.0)\n",
      "Requirement already satisfied: rfc3986>=1.2.0 in /home/pi/.local/lib/python3.9/site-packages (from oslo.config>=5.2.0->oslo.log>=3.36.0->python-blazarclient->python-chi<0.16.0,>=0.15.4->python-chi-edge) (2.0.0)\n",
      "Requirement already satisfied: msgpack>=0.5.2 in /home/pi/.local/lib/python3.9/site-packages (from oslo.serialization>=2.25.0->oslo.log>=3.36.0->python-blazarclient->python-chi<0.16.0,>=0.15.4->python-chi-edge) (1.0.4)\n",
      "Requirement already satisfied: packaging>=20.4 in /home/pi/.local/lib/python3.9/site-packages (from oslo.utils>=3.33.0->python-blazarclient->python-chi<0.16.0,>=0.15.4->python-chi-edge) (21.3)\n",
      "Requirement already satisfied: pyOpenSSL>=17.1.0 in /usr/lib/python3/dist-packages (from python-glanceclient->python-chi<0.16.0,>=0.15.4->python-chi-edge) (20.0.1)\n",
      "Requirement already satisfied: warlock<2,>=1.2.0 in /home/pi/.local/lib/python3.9/site-packages (from python-glanceclient->python-chi<0.16.0,>=0.15.4->python-chi-edge) (1.3.3)\n",
      "Requirement already satisfied: jsonschema<4,>=0.7 in /home/pi/.local/lib/python3.9/site-packages (from warlock<2,>=1.2.0->python-glanceclient->python-chi<0.16.0,>=0.15.4->python-chi-edge) (3.2.0)\n",
      "Requirement already satisfied: pyrsistent>=0.14.0 in /home/pi/.local/lib/python3.9/site-packages (from jsonschema<4,>=0.7->warlock<2,>=1.2.0->python-glanceclient->python-chi<0.16.0,>=0.15.4->python-chi-edge) (0.18.1)\n",
      "Requirement already satisfied: setuptools in /usr/lib/python3/dist-packages (from jsonschema<4,>=0.7->warlock<2,>=1.2.0->python-glanceclient->python-chi<0.16.0,>=0.15.4->python-chi-edge) (52.0.0)\n",
      "Requirement already satisfied: os-client-config>=1.28.0 in /home/pi/.local/lib/python3.9/site-packages (from python-neutronclient->python-chi<0.16.0,>=0.15.4->python-chi-edge) (2.1.0)\n",
      "Requirement already satisfied: python-keystoneclient>=3.8.0 in /home/pi/.local/lib/python3.9/site-packages (from python-neutronclient->python-chi<0.16.0,>=0.15.4->python-chi-edge) (4.5.0)\n",
      "Requirement already satisfied: docker>=2.4.2 in /home/pi/.local/lib/python3.9/site-packages (from python-zunclient->python-chi<0.16.0,>=0.15.4->python-chi-edge) (5.0.3)\n",
      "Requirement already satisfied: python-openstackclient>=3.12.0 in /home/pi/.local/lib/python3.9/site-packages (from python-zunclient->python-chi<0.16.0,>=0.15.4->python-chi-edge) (5.8.0)\n",
      "Requirement already satisfied: websocket-client>=0.44.0 in /home/pi/.local/lib/python3.9/site-packages (from python-zunclient->python-chi<0.16.0,>=0.15.4->python-chi-edge) (1.3.3)\n",
      "Requirement already satisfied: python-cinderclient>=3.3.0 in /home/pi/.local/lib/python3.9/site-packages (from python-openstackclient>=3.12.0->python-zunclient->python-chi<0.16.0,>=0.15.4->python-chi-edge) (8.3.0)\n"
     ]
    }
   ],
   "source": [
    "!pip install python-chi-edge"
   ]
  },
  {
   "cell_type": "code",
   "execution_count": 15,
   "id": "7af294d0",
   "metadata": {
    "scrolled": true
   },
   "outputs": [
    {
     "name": "stdout",
     "output_type": "stream",
     "text": [
      "Looking in indexes: https://pypi.org/simple, https://www.piwheels.org/simple\n",
      "Requirement already satisfied: python-openstackclient in /home/pi/.local/lib/python3.9/site-packages (5.8.0)\n",
      "Requirement already satisfied: oslo.utils>=3.33.0 in /home/pi/.local/lib/python3.9/site-packages (from python-openstackclient) (6.0.0)\n",
      "Requirement already satisfied: iso8601>=0.1.11 in /home/pi/.local/lib/python3.9/site-packages (from python-openstackclient) (1.0.2)\n",
      "Requirement already satisfied: stevedore>=2.0.1 in /home/pi/.local/lib/python3.9/site-packages (from python-openstackclient) (3.5.0)\n",
      "Requirement already satisfied: oslo.i18n>=3.15.3 in /home/pi/.local/lib/python3.9/site-packages (from python-openstackclient) (5.1.0)\n",
      "Requirement already satisfied: python-cinderclient>=3.3.0 in /home/pi/.local/lib/python3.9/site-packages (from python-openstackclient) (8.3.0)\n",
      "Requirement already satisfied: osc-lib>=2.3.0 in /home/pi/.local/lib/python3.9/site-packages (from python-openstackclient) (2.6.0)\n",
      "Requirement already satisfied: cliff>=3.5.0 in /home/pi/.local/lib/python3.9/site-packages (from python-openstackclient) (3.10.1)\n",
      "Requirement already satisfied: pbr!=2.1.0,>=2.0.0 in /home/pi/.local/lib/python3.9/site-packages (from python-openstackclient) (5.9.0)\n",
      "Requirement already satisfied: python-novaclient>=17.0.0 in /home/pi/.local/lib/python3.9/site-packages (from python-openstackclient) (18.0.0)\n",
      "Requirement already satisfied: openstacksdk>=0.61.0 in /home/pi/.local/lib/python3.9/site-packages (from python-openstackclient) (0.99.0)\n",
      "Requirement already satisfied: python-keystoneclient>=3.22.0 in /home/pi/.local/lib/python3.9/site-packages (from python-openstackclient) (4.5.0)\n",
      "Requirement already satisfied: cmd2>=1.0.0 in /home/pi/.local/lib/python3.9/site-packages (from cliff>=3.5.0->python-openstackclient) (2.4.1)\n",
      "Requirement already satisfied: PyYAML>=3.12 in /home/pi/.local/lib/python3.9/site-packages (from cliff>=3.5.0->python-openstackclient) (6.0)\n",
      "Requirement already satisfied: pyparsing>=2.1.0 in /home/pi/.local/lib/python3.9/site-packages (from cliff>=3.5.0->python-openstackclient) (3.0.9)\n",
      "Requirement already satisfied: autopage>=0.4.0 in /home/pi/.local/lib/python3.9/site-packages (from cliff>=3.5.0->python-openstackclient) (0.5.1)\n",
      "Requirement already satisfied: PrettyTable>=0.7.2 in /home/pi/.local/lib/python3.9/site-packages (from cliff>=3.5.0->python-openstackclient) (3.3.0)\n",
      "Requirement already satisfied: pyperclip>=1.6 in /home/pi/.local/lib/python3.9/site-packages (from cmd2>=1.0.0->cliff>=3.5.0->python-openstackclient) (1.8.2)\n",
      "Requirement already satisfied: wcwidth>=0.1.7 in /home/pi/.local/lib/python3.9/site-packages (from cmd2>=1.0.0->cliff>=3.5.0->python-openstackclient) (0.2.5)\n",
      "Requirement already satisfied: attrs>=16.3.0 in /home/pi/.local/lib/python3.9/site-packages (from cmd2>=1.0.0->cliff>=3.5.0->python-openstackclient) (21.4.0)\n",
      "Requirement already satisfied: keystoneauth1>=3.18.0 in /home/pi/.local/lib/python3.9/site-packages (from openstacksdk>=0.61.0->python-openstackclient) (4.6.0)\n",
      "Requirement already satisfied: netifaces>=0.10.4 in /home/pi/.local/lib/python3.9/site-packages (from openstacksdk>=0.61.0->python-openstackclient) (0.11.0)\n",
      "Requirement already satisfied: os-service-types>=1.7.0 in /home/pi/.local/lib/python3.9/site-packages (from openstacksdk>=0.61.0->python-openstackclient) (1.7.0)\n",
      "Requirement already satisfied: requestsexceptions>=1.2.0 in /home/pi/.local/lib/python3.9/site-packages (from openstacksdk>=0.61.0->python-openstackclient) (1.4.0)\n",
      "Requirement already satisfied: appdirs>=1.3.0 in /home/pi/.local/lib/python3.9/site-packages (from openstacksdk>=0.61.0->python-openstackclient) (1.4.4)\n",
      "Requirement already satisfied: decorator>=4.4.1 in /home/pi/.local/lib/python3.9/site-packages (from openstacksdk>=0.61.0->python-openstackclient) (5.1.1)\n",
      "Requirement already satisfied: dogpile.cache>=0.6.5 in /home/pi/.local/lib/python3.9/site-packages (from openstacksdk>=0.61.0->python-openstackclient) (1.1.7)\n",
      "Requirement already satisfied: cryptography>=2.7 in /usr/lib/python3/dist-packages (from openstacksdk>=0.61.0->python-openstackclient) (3.3.2)\n",
      "Requirement already satisfied: jmespath>=0.9.0 in /home/pi/.local/lib/python3.9/site-packages (from openstacksdk>=0.61.0->python-openstackclient) (1.0.1)\n",
      "Requirement already satisfied: munch>=2.1.0 in /home/pi/.local/lib/python3.9/site-packages (from openstacksdk>=0.61.0->python-openstackclient) (2.5.0)\n",
      "Requirement already satisfied: jsonpatch!=1.20,>=1.16 in /home/pi/.local/lib/python3.9/site-packages (from openstacksdk>=0.61.0->python-openstackclient) (1.32)\n",
      "Requirement already satisfied: jsonpointer>=1.9 in /home/pi/.local/lib/python3.9/site-packages (from jsonpatch!=1.20,>=1.16->openstacksdk>=0.61.0->python-openstackclient) (2.3)\n",
      "Requirement already satisfied: six>=1.10.0 in /usr/lib/python3/dist-packages (from keystoneauth1>=3.18.0->openstacksdk>=0.61.0->python-openstackclient) (1.16.0)\n",
      "Requirement already satisfied: requests>=2.14.2 in /usr/lib/python3/dist-packages (from keystoneauth1>=3.18.0->openstacksdk>=0.61.0->python-openstackclient) (2.25.1)\n",
      "Requirement already satisfied: simplejson>=3.5.1 in /usr/lib/python3/dist-packages (from osc-lib>=2.3.0->python-openstackclient) (3.17.2)\n",
      "Requirement already satisfied: pytz>=2013.6 in /home/pi/.local/lib/python3.9/site-packages (from oslo.utils>=3.33.0->python-openstackclient) (2022.1)\n",
      "Requirement already satisfied: netaddr>=0.7.18 in /home/pi/.local/lib/python3.9/site-packages (from oslo.utils>=3.33.0->python-openstackclient) (0.8.0)\n",
      "Requirement already satisfied: debtcollector>=1.2.0 in /home/pi/.local/lib/python3.9/site-packages (from oslo.utils>=3.33.0->python-openstackclient) (2.5.0)\n",
      "Requirement already satisfied: packaging>=20.4 in /home/pi/.local/lib/python3.9/site-packages (from oslo.utils>=3.33.0->python-openstackclient) (21.3)\n",
      "Requirement already satisfied: wrapt>=1.7.0 in /usr/lib/python3/dist-packages (from debtcollector>=1.2.0->oslo.utils>=3.33.0->python-openstackclient) (1.12.1)\n",
      "Requirement already satisfied: oslo.serialization!=2.19.1,>=2.18.0 in /home/pi/.local/lib/python3.9/site-packages (from python-keystoneclient>=3.22.0->python-openstackclient) (4.3.0)\n",
      "Requirement already satisfied: oslo.config>=5.2.0 in /home/pi/.local/lib/python3.9/site-packages (from python-keystoneclient>=3.22.0->python-openstackclient) (8.8.0)\n",
      "Requirement already satisfied: rfc3986>=1.2.0 in /home/pi/.local/lib/python3.9/site-packages (from oslo.config>=5.2.0->python-keystoneclient>=3.22.0->python-openstackclient) (2.0.0)\n",
      "Requirement already satisfied: msgpack>=0.5.2 in /home/pi/.local/lib/python3.9/site-packages (from oslo.serialization!=2.19.1,>=2.18.0->python-keystoneclient>=3.22.0->python-openstackclient) (1.0.4)\n"
     ]
    }
   ],
   "source": [
    "!pip install python-openstackclient"
   ]
  },
  {
   "cell_type": "code",
   "execution_count": 16,
   "id": "00514ab5",
   "metadata": {},
   "outputs": [],
   "source": [
    "# 728UdS#x0gqi"
   ]
  },
  {
   "cell_type": "code",
   "execution_count": 3,
   "id": "2a3fb354",
   "metadata": {},
   "outputs": [],
   "source": [
    "!source app-cred-pidesktop-openrc.sh"
   ]
  },
  {
   "cell_type": "code",
   "execution_count": 2,
   "id": "b40df78c",
   "metadata": {},
   "outputs": [
    {
     "name": "stdout",
     "output_type": "stream",
     "text": [
      "Error: Hardware with name rpi-llc-2 already exists.\r\n"
     ]
    }
   ],
   "source": [
    "!chi-edge device register \\\n",
    "  --contact-email rianders@docs.rutgers.edu --machine-name raspberrypi4-64 \\\n",
    "  --application-credential-id 7d2629b029824ecd821a7c38dfe523ac --application-credential-secret 728UdS#x0gqi \\\n",
    "  rpi-llc-2"
   ]
  },
  {
   "cell_type": "code",
   "execution_count": 4,
   "id": "04d25cf4",
   "metadata": {},
   "outputs": [
    {
     "name": "stdout",
     "output_type": "stream",
     "text": [
      "/bin/bash: line 1: chi-edge: command not found\r\n"
     ]
    }
   ],
   "source": [
    "# List all devices\n",
    "!chi-edge device list"
   ]
  },
  {
   "cell_type": "code",
   "execution_count": 7,
   "id": "42e2187a",
   "metadata": {},
   "outputs": [
    {
     "name": "stdout",
     "output_type": "stream",
     "text": [
      "╭─ \u001b[1;32mrpi-llc-2\u001b[0m ── 32a7e232-271c-4cda-b1c0-2c4115c68f8f ──────────────────────────╮\r\n",
      "│                                 ╷                                            │\r\n",
      "│  \u001b[1;32m \u001b[0m\u001b[1;32mProperty                     \u001b[0m\u001b[1;32m \u001b[0m│\u001b[1;32m \u001b[0m\u001b[1;32mValue                                   \u001b[0m\u001b[1;32m \u001b[0m  │\r\n",
      "│ ╺━━━━━━━━━━━━━━━━━━━━━━━━━━━━━━━┿━━━━━━━━━━━━━━━━━━━━━━━━━━━━━━━━━━━━━━━━━━╸ │\r\n",
      "│   application_credential_id     │ 7d2629b029824ecd821a7c38dfe523ac           │\r\n",
      "│   application_credential_secret │ ************                               │\r\n",
      "│   blazar_device_driver          │ k8s                                        │\r\n",
      "│   channels                      │ user:                                      │\r\n",
      "│                                 │   channel_type: wireguard                  │\r\n",
      "│                                 │   public_key:                              │\r\n",
      "│                                 │ ZP+S2yLOGsukaPa9/pNzPCi9uE/FNbM9CoBdB5v…   │\r\n",
      "│   contact_email                 │ rianders@docs.rutgers.edu                  │\r\n",
      "│   machine_name                  │ raspberrypi4-64                            │\r\n",
      "│                                 ╵                                            │\r\n",
      "│ Health details                                                               │\r\n",
      "│                ╷              ╷              ╷              ╷                │\r\n",
      "│  \u001b[34m \u001b[0m\u001b[34m            \u001b[0m\u001b[34m \u001b[0m│\u001b[34m \u001b[0m\u001b[34mbalena      \u001b[0m\u001b[34m \u001b[0m│\u001b[34m \u001b[0m\u001b[34mblazar.devi…\u001b[0m\u001b[34m \u001b[0m│\u001b[34m \u001b[0m\u001b[34mk8s         \u001b[0m\u001b[34m \u001b[0m│\u001b[34m \u001b[0m\u001b[34mtunelo      \u001b[0m\u001b[34m \u001b[0m  │\r\n",
      "│ ╺━━━━━━━━━━━━━━┿━━━━━━━━━━━━━━┿━━━━━━━━━━━━━━┿━━━━━━━━━━━━━━┿━━━━━━━━━━━━━━╸ │\r\n",
      "│   state        │ STEADY       │ STEADY       │ STEADY       │ STEADY         │\r\n",
      "│   state_detai… │ device_api_… │ blazar_reso… │ num_labels:  │ channels:      │\r\n",
      "│                │ P8cYVWV5CZN… │ dc9b5d54-94… │ 2            │   user:        │\r\n",
      "│                │ device_id:   │ resource_cr… │              │     endpoin…   │\r\n",
      "│                │ 7370722      │ '2022-07-07  │              │ null           │\r\n",
      "│                │ fleet_id:    │ 16:35:56'    │              │     ip:        │\r\n",
      "│                │ 1918419      │              │              │ 10.0.3.20      │\r\n",
      "│                │ last_seen:   │              │              │     peers:     │\r\n",
      "│                │ '2022-07-07… │              │              │     -          │\r\n",
      "│                │              │              │              │ endpoint:      │\r\n",
      "│                │              │              │              │ 129.114.34.…   │\r\n",
      "│                │              │              │              │       ip:      │\r\n",
      "│                │              │              │              │ 10.0.3.2       │\r\n",
      "│                │              │              │              │       publi…   │\r\n",
      "│                │              │              │              │ zgg29Urn5Ww…   │\r\n",
      "│                │              │              │              │     uuid:      │\r\n",
      "│                │              │              │              │ 6b72730d-8f…   │\r\n",
      "│                ╵              ╵              ╵              ╵                │\r\n",
      "╰──────────────────────────────────────────────────────────────────────────────╯\r\n"
     ]
    }
   ],
   "source": [
    "# View details for a single device\n",
    "!chi-edge device show rpi-llc-2"
   ]
  },
  {
   "cell_type": "code",
   "execution_count": 25,
   "id": "49666ef9",
   "metadata": {},
   "outputs": [
    {
     "name": "stdout",
     "output_type": "stream",
     "text": [
      "/home/pi/Documents/config.json\n",
      "config.json\n",
      "Successfully patched image\n"
     ]
    }
   ],
   "source": [
    "# unzip the file.\n",
    "!chi-edge device bake --image cluster-raspberrypi4-64-2.91.1-v12.11.32.img 32a7e232-271c-4cda-b1c0-2c4115c68f8f"
   ]
  },
  {
   "cell_type": "code",
   "execution_count": 1,
   "id": "7b04c05a",
   "metadata": {},
   "outputs": [
    {
     "name": "stdout",
     "output_type": "stream",
     "text": [
      "╭─ \u001b[1;32mrpi-llc-2\u001b[0m ── 32a7e232-271c-4cda-b1c0-2c4115c68f8f ──────────────────────────╮\r\n",
      "│                                 ╷                                            │\r\n",
      "│  \u001b[1;32m \u001b[0m\u001b[1;32mProperty                     \u001b[0m\u001b[1;32m \u001b[0m│\u001b[1;32m \u001b[0m\u001b[1;32mValue                                   \u001b[0m\u001b[1;32m \u001b[0m  │\r\n",
      "│ ╺━━━━━━━━━━━━━━━━━━━━━━━━━━━━━━━┿━━━━━━━━━━━━━━━━━━━━━━━━━━━━━━━━━━━━━━━━━━╸ │\r\n",
      "│   application_credential_id     │ 7d2629b029824ecd821a7c38dfe523ac           │\r\n",
      "│   application_credential_secret │ ************                               │\r\n",
      "│   blazar_device_driver          │ k8s                                        │\r\n",
      "│   channels                      │ user:                                      │\r\n",
      "│                                 │   channel_type: wireguard                  │\r\n",
      "│                                 │   public_key:                              │\r\n",
      "│                                 │ ZP+S2yLOGsukaPa9/pNzPCi9uE/FNbM9CoBdB5v…   │\r\n",
      "│   contact_email                 │ rianders@docs.rutgers.edu                  │\r\n",
      "│   machine_name                  │ raspberrypi4-64                            │\r\n",
      "│                                 ╵                                            │\r\n",
      "│ Health details                                                               │\r\n",
      "│                ╷               ╷              ╷             ╷                │\r\n",
      "│  \u001b[34m \u001b[0m\u001b[34m            \u001b[0m\u001b[34m \u001b[0m│\u001b[34m \u001b[0m\u001b[34mbalena       \u001b[0m\u001b[34m \u001b[0m│\u001b[34m \u001b[0m\u001b[34mblazar.devi…\u001b[0m\u001b[34m \u001b[0m│\u001b[34m \u001b[0m\u001b[34mk8s        \u001b[0m\u001b[34m \u001b[0m│\u001b[34m \u001b[0m\u001b[34mtunelo      \u001b[0m\u001b[34m \u001b[0m  │\r\n",
      "│ ╺━━━━━━━━━━━━━━┿━━━━━━━━━━━━━━━┿━━━━━━━━━━━━━━┿━━━━━━━━━━━━━┿━━━━━━━━━━━━━━╸ │\r\n",
      "│   state        │ PENDING       │ IN_PROGRESS  │ IN_PROGRESS │ PENDING        │\r\n",
      "│   state_detai… │ device_api_k… │ {}           │ {}          │ channels: {}   │\r\n",
      "│                │ P8cYVWV5CZNF… │              │             │                │\r\n",
      "│                │ device_id:    │              │             │                │\r\n",
      "│                │ 7370722       │              │             │                │\r\n",
      "│                │ fleet_id:     │              │             │                │\r\n",
      "│                │ 1918419       │              │             │                │\r\n",
      "│                │ last_seen:    │              │             │                │\r\n",
      "│                │ '2022-07-06T… │              │             │                │\r\n",
      "│                ╵               ╵              ╵             ╵                │\r\n",
      "╰──────────────────────────────────────────────────────────────────────────────╯\r\n"
     ]
    }
   ],
   "source": [
    "!chi-edge  device set --application-credential-id 7d2629b029824ecd821a7c38dfe523ac 32a7e232-271c-4cda-b1c0-2c4115c68f8f"
   ]
  },
  {
   "cell_type": "code",
   "execution_count": 5,
   "id": "0330118a",
   "metadata": {},
   "outputs": [
    {
     "name": "stdout",
     "output_type": "stream",
     "text": [
      "Successfully started device re-sync\r\n"
     ]
    }
   ],
   "source": [
    "!chi-edge device sync 32a7e232-271c-4cda-b1c0-2c4115c68f8f"
   ]
  },
  {
   "cell_type": "code",
   "execution_count": null,
   "id": "5c02f3ba",
   "metadata": {},
   "outputs": [],
   "source": []
  }
 ],
 "metadata": {
  "kernelspec": {
   "display_name": "Python 3 (ipykernel)",
   "language": "python",
   "name": "python3"
  },
  "language_info": {
   "codemirror_mode": {
    "name": "ipython",
    "version": 3
   },
   "file_extension": ".py",
   "mimetype": "text/x-python",
   "name": "python",
   "nbconvert_exporter": "python",
   "pygments_lexer": "ipython3",
   "version": "3.10.4"
  }
 },
 "nbformat": 4,
 "nbformat_minor": 5
}
