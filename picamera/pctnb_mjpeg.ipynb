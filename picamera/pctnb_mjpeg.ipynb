{
 "cells": [
  {
   "cell_type": "code",
   "execution_count": null,
   "metadata": {},
   "outputs": [],
   "source": [
    "#!/usr/bin/python3\n",
    "import time\n",
    "\n",
    "from picamera2 import Picamera2\n",
    "from picamera2.encoders import JpegEncoder\n"
   ]
  },
  {
   "cell_type": "code",
   "execution_count": null,
   "metadata": {},
   "outputs": [],
   "source": [
    "fname = (time.strftime(\"%y-%b-%d_%H:%M\"))\n",
    "variable = fname + \".mjpeg\""
   ]
  },
  {
   "cell_type": "code",
   "execution_count": null,
   "metadata": {},
   "outputs": [],
   "source": [
    "picam2 = Picamera2()\n",
    "video_config = picam2.create_video_configuration(main={\"size\": (1920, 1080)})\n",
    "picam2.configure(video_config)\n",
    "\n",
    "picam2.start_preview()\n",
    "encoder = JpegEncoder(q=70)\n",
    "picam2.start_recording(encoder, variable)\n",
    "print(\"start\")\n",
    "time.sleep(60)\n",
    "picam2.stop_recording()\n",
    "print(\"stop\")\n"
   ]
  }
 ],
 "metadata": {
  "kernelspec": {
   "display_name": "Python 3.10.4 64-bit",
   "language": "python",
   "name": "python3"
  },
  "language_info": {
   "name": "python",
   "version": "3.10.4"
  },
  "orig_nbformat": 4,
  "vscode": {
   "interpreter": {
    "hash": "916dbcbb3f70747c44a77c7bcd40155683ae19c65e1c03b4aa3499c5328201f1"
   }
  }
 },
 "nbformat": 4,
 "nbformat_minor": 2
}
