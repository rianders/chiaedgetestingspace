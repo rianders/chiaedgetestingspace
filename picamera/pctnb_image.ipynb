{
 "cells": [
  {
   "cell_type": "code",
   "execution_count": null,
   "metadata": {},
   "outputs": [],
   "source": [
    "#!/usr/bin/python3\n",
    "import time\n",
    "#import libcamera\n",
    "from picamera2 import Picamera2\n"
   ]
  },
  {
   "cell_type": "code",
   "execution_count": null,
   "metadata": {},
   "outputs": [],
   "source": [
    "picam2 = Picamera2()\n",
    "picam2.start()\n",
    "time.sleep(2)\n"
   ]
  },
  {
   "cell_type": "code",
   "execution_count": null,
   "metadata": {},
   "outputs": [],
   "source": [
    "fname = (time.strftime(\"%y-%b-%d_%H:%M\"))\n",
    "variable = fname + \".jpg\"\n",
    "# picam2.capture_file(variable)\n",
    "# #picam2.capture_file(\"test.jpg\")\n",
    "metadata = picam2.capture_file(variable)\n",
    "print(metadata)\n",
    "print(\"Image taken.\")\n",
    "picam2.close()"
   ]
  }
 ],
 "metadata": {
  "kernelspec": {
   "display_name": "Python 3.10.4 64-bit",
   "language": "python",
   "name": "python3"
  },
  "language_info": {
   "name": "python",
   "version": "3.10.4"
  },
  "orig_nbformat": 4,
  "vscode": {
   "interpreter": {
    "hash": "916dbcbb3f70747c44a77c7bcd40155683ae19c65e1c03b4aa3499c5328201f1"
   }
  }
 },
 "nbformat": 4,
 "nbformat_minor": 2
}
