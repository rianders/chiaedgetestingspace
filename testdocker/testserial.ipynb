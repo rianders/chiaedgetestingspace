{
 "cells": [
  {
   "cell_type": "code",
   "execution_count": null,
   "metadata": {},
   "outputs": [],
   "source": [
    "import serial\n",
    "import serial.tools.list_ports\n",
    "import time"
   ]
  },
  {
   "cell_type": "code",
   "execution_count": null,
   "metadata": {},
   "outputs": [],
   "source": [
    "# Get the available serial port\n",
    "ports = [p.device  for p in serial.tools.list_ports.comports()]\n",
    "\n",
    "# ports for seiral communication: \n",
    "PORT_NAMES = ports\n",
    "#PORT_NAME = '/dev/ttyUSB0'\n",
    "# check which port is being used in pio device monitor V\n",
    "\n",
    "for pName in PORT_NAMES:\n",
    "\n",
    "    with  serial.Serial( pName,  9600, timeout=1) as ser:\n",
    "        print(f\"Start Serial: name: {ser.name}.  \")\n",
    "        time.sleep(1)\n",
    "        for i in range(5):\n",
    "            print(f\"line: {i}\")\n",
    "            #if(ser.in_waiting > 0):\n",
    "            line = ser.readline()\n",
    "            print(line.decode('utf-8'))"
   ]
  },
  {
   "cell_type": "code",
   "execution_count": null,
   "metadata": {},
   "outputs": [],
   "source": [
    "ser.close()\n",
    "print(\"Stop Serial: \")"
   ]
  }
 ],
 "metadata": {
  "kernelspec": {
   "display_name": "Python 3.10.4 64-bit",
   "language": "python",
   "name": "python3"
  },
  "language_info": {
   "name": "python",
   "version": "3.10.4"
  },
  "orig_nbformat": 4,
  "vscode": {
   "interpreter": {
    "hash": "916dbcbb3f70747c44a77c7bcd40155683ae19c65e1c03b4aa3499c5328201f1"
   }
  }
 },
 "nbformat": 4,
 "nbformat_minor": 2
}
